{
 "cells": [
  {
   "cell_type": "markdown",
   "metadata": {},
   "source": [
    "# Знакомство с данными"
   ]
  },
  {
   "cell_type": "code",
   "execution_count": 24,
   "metadata": {},
   "outputs": [],
   "source": [
    "# Необходимые библиотеки\n",
    "import pandas as pd\n",
    "import numpy as np\n",
    "import seaborn as sns\n",
    "import matplotlib.pyplot as plt\n",
    "import plotly.express as px\n",
    "# Вспомогательные библиотеки\n",
    "import re\n",
    "# Отключил пердупреждения для чистоты вывода\n",
    "from warnings import filterwarnings\n",
    "filterwarnings(\"ignore\")\n",
    "# Легче читаемые числа после расчётов\n",
    "pd.set_option('display.float_format', lambda x: '%.2f' %x)"
   ]
  },
  {
   "cell_type": "code",
   "execution_count": 25,
   "metadata": {},
   "outputs": [
    {
     "data": {
      "text/html": [
       "<div>\n",
       "<style scoped>\n",
       "    .dataframe tbody tr th:only-of-type {\n",
       "        vertical-align: middle;\n",
       "    }\n",
       "\n",
       "    .dataframe tbody tr th {\n",
       "        vertical-align: top;\n",
       "    }\n",
       "\n",
       "    .dataframe thead th {\n",
       "        text-align: right;\n",
       "    }\n",
       "</style>\n",
       "<table border=\"1\" class=\"dataframe\">\n",
       "  <thead>\n",
       "    <tr style=\"text-align: right;\">\n",
       "      <th></th>\n",
       "      <th>region</th>\n",
       "      <th>year</th>\n",
       "      <th>poverty_percent</th>\n",
       "    </tr>\n",
       "  </thead>\n",
       "  <tbody>\n",
       "    <tr>\n",
       "      <th>0</th>\n",
       "      <td>Российская Федерация</td>\n",
       "      <td>1992</td>\n",
       "      <td>33.50</td>\n",
       "    </tr>\n",
       "    <tr>\n",
       "      <th>1</th>\n",
       "      <td>Российская Федерация</td>\n",
       "      <td>1993</td>\n",
       "      <td>31.30</td>\n",
       "    </tr>\n",
       "    <tr>\n",
       "      <th>2</th>\n",
       "      <td>Российская Федерация</td>\n",
       "      <td>1994</td>\n",
       "      <td>22.40</td>\n",
       "    </tr>\n",
       "    <tr>\n",
       "      <th>3</th>\n",
       "      <td>Российская Федерация</td>\n",
       "      <td>1995</td>\n",
       "      <td>24.80</td>\n",
       "    </tr>\n",
       "    <tr>\n",
       "      <th>4</th>\n",
       "      <td>Российская Федерация</td>\n",
       "      <td>1996</td>\n",
       "      <td>22.10</td>\n",
       "    </tr>\n",
       "    <tr>\n",
       "      <th>...</th>\n",
       "      <td>...</td>\n",
       "      <td>...</td>\n",
       "      <td>...</td>\n",
       "    </tr>\n",
       "    <tr>\n",
       "      <th>2334</th>\n",
       "      <td>Чукотский автономный округ</td>\n",
       "      <td>2017</td>\n",
       "      <td>8.50</td>\n",
       "    </tr>\n",
       "    <tr>\n",
       "      <th>2335</th>\n",
       "      <td>Чукотский автономный округ</td>\n",
       "      <td>2018</td>\n",
       "      <td>8.80</td>\n",
       "    </tr>\n",
       "    <tr>\n",
       "      <th>2336</th>\n",
       "      <td>Чукотский автономный округ</td>\n",
       "      <td>2019</td>\n",
       "      <td>8.50</td>\n",
       "    </tr>\n",
       "    <tr>\n",
       "      <th>2337</th>\n",
       "      <td>Чукотский автономный округ</td>\n",
       "      <td>2020</td>\n",
       "      <td>8.00</td>\n",
       "    </tr>\n",
       "    <tr>\n",
       "      <th>2338</th>\n",
       "      <td>Крымский федеральный округ</td>\n",
       "      <td>2015</td>\n",
       "      <td>0.00</td>\n",
       "    </tr>\n",
       "  </tbody>\n",
       "</table>\n",
       "<p>2339 rows × 3 columns</p>\n",
       "</div>"
      ],
      "text/plain": [
       "                                  region  year  poverty_percent\n",
       "0                   Российская Федерация  1992            33.50\n",
       "1                   Российская Федерация  1993            31.30\n",
       "2                   Российская Федерация  1994            22.40\n",
       "3                   Российская Федерация  1995            24.80\n",
       "4                   Российская Федерация  1996            22.10\n",
       "...                                  ...   ...              ...\n",
       "2334          Чукотский автономный округ  2017             8.50\n",
       "2335          Чукотский автономный округ  2018             8.80\n",
       "2336          Чукотский автономный округ  2019             8.50\n",
       "2337          Чукотский автономный округ  2020             8.00\n",
       "2338          Крымский федеральный округ  2015             0.00\n",
       "\n",
       "[2339 rows x 3 columns]"
      ]
     },
     "execution_count": 25,
     "metadata": {},
     "output_type": "execute_result"
    }
   ],
   "source": [
    "main = pd.read_csv('data/poverty_percent_by_regions_1992_2020.csv')\n",
    "main"
   ]
  },
  {
   "cell_type": "code",
   "execution_count": 26,
   "metadata": {},
   "outputs": [
    {
     "name": "stdout",
     "output_type": "stream",
     "text": [
      "<class 'pandas.core.frame.DataFrame'>\n",
      "RangeIndex: 2339 entries, 0 to 2338\n",
      "Data columns (total 3 columns):\n",
      " #   Column           Non-Null Count  Dtype  \n",
      "---  ------           --------------  -----  \n",
      " 0   region           2339 non-null   object \n",
      " 1   year             2339 non-null   int64  \n",
      " 2   poverty_percent  2339 non-null   float64\n",
      "dtypes: float64(1), int64(1), object(1)\n",
      "memory usage: 54.9+ KB\n"
     ]
    }
   ],
   "source": [
    "main.info()"
   ]
  },
  {
   "cell_type": "markdown",
   "metadata": {},
   "source": [
    "Данные не содержат пропусков, типы данных присвоены правильно"
   ]
  },
  {
   "cell_type": "code",
   "execution_count": 27,
   "metadata": {},
   "outputs": [
    {
     "data": {
      "text/html": [
       "<div>\n",
       "<style scoped>\n",
       "    .dataframe tbody tr th:only-of-type {\n",
       "        vertical-align: middle;\n",
       "    }\n",
       "\n",
       "    .dataframe tbody tr th {\n",
       "        vertical-align: top;\n",
       "    }\n",
       "\n",
       "    .dataframe thead th {\n",
       "        text-align: right;\n",
       "    }\n",
       "</style>\n",
       "<table border=\"1\" class=\"dataframe\">\n",
       "  <thead>\n",
       "    <tr style=\"text-align: right;\">\n",
       "      <th></th>\n",
       "      <th>year</th>\n",
       "      <th>poverty_percent</th>\n",
       "    </tr>\n",
       "  </thead>\n",
       "  <tbody>\n",
       "    <tr>\n",
       "      <th>count</th>\n",
       "      <td>2339.00</td>\n",
       "      <td>2339.00</td>\n",
       "    </tr>\n",
       "    <tr>\n",
       "      <th>mean</th>\n",
       "      <td>2007.80</td>\n",
       "      <td>20.24</td>\n",
       "    </tr>\n",
       "    <tr>\n",
       "      <th>std</th>\n",
       "      <td>7.43</td>\n",
       "      <td>13.36</td>\n",
       "    </tr>\n",
       "    <tr>\n",
       "      <th>min</th>\n",
       "      <td>1992.00</td>\n",
       "      <td>0.00</td>\n",
       "    </tr>\n",
       "    <tr>\n",
       "      <th>25%</th>\n",
       "      <td>2002.00</td>\n",
       "      <td>12.50</td>\n",
       "    </tr>\n",
       "    <tr>\n",
       "      <th>50%</th>\n",
       "      <td>2008.00</td>\n",
       "      <td>17.30</td>\n",
       "    </tr>\n",
       "    <tr>\n",
       "      <th>75%</th>\n",
       "      <td>2014.00</td>\n",
       "      <td>25.50</td>\n",
       "    </tr>\n",
       "    <tr>\n",
       "      <th>max</th>\n",
       "      <td>2020.00</td>\n",
       "      <td>98.40</td>\n",
       "    </tr>\n",
       "  </tbody>\n",
       "</table>\n",
       "</div>"
      ],
      "text/plain": [
       "         year  poverty_percent\n",
       "count 2339.00          2339.00\n",
       "mean  2007.80            20.24\n",
       "std      7.43            13.36\n",
       "min   1992.00             0.00\n",
       "25%   2002.00            12.50\n",
       "50%   2008.00            17.30\n",
       "75%   2014.00            25.50\n",
       "max   2020.00            98.40"
      ]
     },
     "execution_count": 27,
     "metadata": {},
     "output_type": "execute_result"
    }
   ],
   "source": [
    "main.describe()"
   ]
  },
  {
   "cell_type": "markdown",
   "metadata": {},
   "source": [
    "Данные за 1992-2020 год, процент бедности от 0 до 98.4%"
   ]
  },
  {
   "cell_type": "code",
   "execution_count": 28,
   "metadata": {},
   "outputs": [],
   "source": [
    "# Так как данные по следующим областям представлены в агрегированном виде до 2012 года, отставлю их так и удалю аггрегированные после 2011\n",
    "main['region'] = main['region'].apply(lambda x: x.strip())\n",
    "main = main[~main.index.isin(\n",
    "    main[(main['region'] == 'Архангельская область')][main.year > 2011].index)]\n",
    "main = main[~main.index.isin(\n",
    "    main[(main['region'] == 'Тюменская область')][main.year > 2011].index)]\n",
    "short_dict = {'Архангельская область': 'Архангельская область (кроме Ненецкого автономного округа)',\n",
    "              'Тюменская область': 'Тюменская область (кроме Ханты-Мансийского автономного округа-Югры и Ямало-Ненецкого автономного округа)'}\n",
    "main.region = main.region.apply(\n",
    "    lambda x: short_dict[x] if x in short_dict else x)"
   ]
  },
  {
   "cell_type": "code",
   "execution_count": 29,
   "metadata": {},
   "outputs": [],
   "source": [
    "# Сохраню отдельно данные по РФ перед удалением\n",
    "rf_main = main[main.region == 'Российская Федерация']"
   ]
  },
  {
   "cell_type": "code",
   "execution_count": 30,
   "metadata": {},
   "outputs": [],
   "source": [
    "def unified_regions(df):\n",
    "    '''функция для отбора нужных регионов\n",
    "    дополняется по мере знакомства с датасетами'''\n",
    "    df = df.dropna(subset='region')\n",
    "    df['region'] = df['region'].apply(lambda x: x.strip())\n",
    "    # Удалим аггрегационные данные (округа и две области, содержащие регионы)\n",
    "    df = df.loc[~(df['region'].str.contains('федеральный')) &\n",
    "                ~(df['region'] == 'Архангельская область') &\n",
    "                ~(df['region'] == 'Тюменская область') &\n",
    "                ~(df['region'] == 'Российская Федерация'), :]\n",
    "\n",
    "    # Сократим названия\n",
    "    def find_similar(s):\n",
    "        mydict = {'оскв': 'Город Москва',\n",
    "                  'етербург': 'Город Санкт-Петербург',\n",
    "                  'евастополь': 'Город Севастополь',\n",
    "                  'город Севастополь': 'Город Севастополь',\n",
    "                  'Архангельская область ': 'Архангельская область [кроме..]',\n",
    "                  'Тюменская область ': 'Тюменская область [кроме..]',\n",
    "                  'Чувашская Республика': 'Чувашская Республика - Чувашия',\n",
    "                  'Ханты-Мансийский авт': 'Ханты-Мансийский автономный округ - Югра',\n",
    "                  'Кемеровская область': 'Кемеровская область - Кузбасс',\n",
    "                  ' Саха': 'Республика Саха'}\n",
    "        for key in mydict:\n",
    "            if key in s:\n",
    "                return (mydict[key])\n",
    "        return (s)\n",
    "    df.region = df.region.apply(find_similar)\n",
    "    df.region = df.region.apply(lambda x: re.sub(\n",
    "        r' \\([^)]*\\)|\\[[^\\]]*\\]|\\{[^}]*\\}', '', x))\n",
    "    df.region = df.region.str.replace('авт. округ', 'автономный округ')\n",
    "    df.region = df.region.str.replace('авт. область', 'автономная область')\n",
    "    df.region = df.region.str.replace('B', 'В')\n",
    "    return df"
   ]
  },
  {
   "cell_type": "code",
   "execution_count": 31,
   "metadata": {},
   "outputs": [],
   "source": [
    "main = unified_regions(main)"
   ]
  },
  {
   "cell_type": "code",
   "execution_count": 32,
   "metadata": {},
   "outputs": [
    {
     "data": {
      "text/plain": [
       "poverty_percent\n",
       "0.00     36\n",
       "14.20    22\n",
       "13.60    21\n",
       "14.90    21\n",
       "13.00    19\n",
       "         ..\n",
       "68.90     1\n",
       "55.20     1\n",
       "46.20     1\n",
       "44.30     1\n",
       "50.10     1\n",
       "Name: count, Length: 474, dtype: int64"
      ]
     },
     "execution_count": 32,
     "metadata": {},
     "output_type": "execute_result"
    }
   ],
   "source": [
    "main['poverty_percent'].value_counts(dropna=False)"
   ]
  },
  {
   "cell_type": "code",
   "execution_count": 33,
   "metadata": {},
   "outputs": [],
   "source": [
    "# Пробовал разные подходы к замене нулей, но в результате вижу самым логичным от них избавиться. Cделаю это после построения карты, а то некрасиво получается)\n",
    "# main = main.replace(0,np.nan).dropna()"
   ]
  },
  {
   "cell_type": "markdown",
   "metadata": {},
   "source": [
    "# EDA"
   ]
  },
  {
   "cell_type": "markdown",
   "metadata": {},
   "source": [
    "## Интерактивная карта"
   ]
  },
  {
   "cell_type": "markdown",
   "metadata": {},
   "source": [
    "Добавим регионы для отрисовки"
   ]
  },
  {
   "cell_type": "code",
   "execution_count": 34,
   "metadata": {},
   "outputs": [
    {
     "data": {
      "text/plain": [
       "'from urllib.request import urlopen\\nimport json\\nimport requests\\nwith urlopen(\\'https://raw.githubusercontent.com/codeforamerica/click_that_hood/master/public/data/russia.geojson\\') as response:\\n    counties = json.load(response)\\n\\n\\nregions_republic_1 = [\\'Бурятия\\', \\'Тыва\\', \\'Адыгея\\', \\'Татарстан\\', \\'Марий Эл\\', \\'Алтай\\',\\n                      \\'Дагестан\\', \\'Ингушетия\\', \\'Башкортостан\\']\\nregions_republic_2 = [\\'Удмуртская республика\\', \\'Кабардино-Балкарская республика\\',\\n                      \\'Карачаево-Черкесская республика\\', \\'Чеченская республика\\']\\nfor k in range(len(counties[\\'features\\'])):\\n    counties[\\'features\\'][k][\\'id\\'] = k\\n    if counties[\\'features\\'][k][\\'properties\\'][\\'name\\'] in regions_republic_1:\\n        counties[\\'features\\'][k][\\'properties\\'][\\'name\\'] = \\'Республика \\' +             counties[\\'features\\'][k][\\'properties\\'][\\'name\\']\\n    elif counties[\\'features\\'][k][\\'properties\\'][\\'name\\'] in regions_republic_2:\\n        counties[\\'features\\'][k][\\'properties\\'][\\'name\\'] = counties[\\'features\\'][k][\\'properties\\'][\\'name\\'].title()\\n    elif counties[\\'features\\'][k][\\'properties\\'][\\'name\\'] == \\'Архангельская область\\':\\n        counties[\\'features\\'][k][\\'properties\\'][\\'name\\'] = \\'Архангельская область [кроме..]\\'\\n    elif counties[\\'features\\'][k][\\'properties\\'][\\'name\\'] == \\'Тюменская область\\':\\n        counties[\\'features\\'][k][\\'properties\\'][\\'name\\'] = \\'Тюменская область [кроме..]\\'\\n    elif counties[\\'features\\'][k][\\'properties\\'][\\'name\\'] == \\'Северная Осетия - Алания\\':\\n        counties[\\'features\\'][k][\\'properties\\'][\\'name\\'] = \\'Республика Северная Осетия-Алания\\'\\n    elif counties[\\'features\\'][k][\\'properties\\'][\\'name\\'] == \\'Чувашия\\':\\n        counties[\\'features\\'][k][\\'properties\\'][\\'name\\'] = \\'Чувашская Республика - Чувашия\\'\\n    elif counties[\\'features\\'][k][\\'properties\\'][\\'name\\'] == \\'Республика Саха (Якутия)\\':\\n        counties[\\'features\\'][k][\\'properties\\'][\\'name\\'] = \\'Республика Саха\\'\\n\\nregion_id_list = []\\nregions_list = []\\nfor k in range(len(counties[\\'features\\'])):\\n    region_id_list.append(counties[\\'features\\'][k][\\'id\\'])\\n    regions_list.append(counties[\\'features\\'][k][\\'properties\\'][\\'name\\'])\\ndf_regions = pd.DataFrame()\\ndf_regions[\\'region_id\\'] = region_id_list\\ndf_regions[\\'region\\'] = regions_list\\nshort_dict = {\\'Москва\\': \\'Город Москва\\',\\n              \\'Санкт-Петербург\\': \\'Город Санкт-Петербург\\',\\n              \\'Город Санкт-Петербург город федерального значения\\': \\'Город Санкт-Петербург\\',\\n              \\'Город федерального значения Севастополь\\': \\'Город Севастополь\\',\\n              \\'Архангельская область (кроме Ненецкого автономного округа)\\': \\'Архангельская область [кроме..]\\',\\n              \\'Тюменская область (кроме Ханты-Мансийского автономного округа-Югры и Ямало-Ненецкого автономного округа)\\': \\'Тюменская область [кроме..]\\',\\n              \\'Чувашская Республика\\': \\'Чувашская Республика - Чувашия\\',\\n              \\'Ханты-Мансийский автономный округ\\': \\'Ханты-Мансийский автономный округ - Югра\\',\\n              \\'Кемеровская область\\': \\'Кемеровская область - Кузбасс\\'}\\ndf_regions.region = df_regions.region.apply(\\n    lambda x: short_dict[x] if x in short_dict else x)\\n\\nmain = main.merge(df_regions, how=\\'left\\', on=[\\'region\\'])\\n\\n\\n\\n# строим график\\nfig = px.choropleth_mapbox(geojson=counties,\\n    data_frame=main,\\n    locations=\"region_id\",\\n    color=\"poverty_percent\",\\n    animation_frame=\"year\",\\n    hover_data = {\\'region_id\\':False,\\'year\\':False, \\'poverty_percent\\':True,\\'region\\':True},\\n    color_continuous_scale = \"Temps\",\\n    width=1000,\\n    height=600,\\n    center = {\"lat\": 66, \"lon\": 110}\\n\\n)\\n\\nfig.update_geos(fitbounds=\"locations\", visible=False)\\nfig.update_layout(margin=dict(l=0, r=0, t=0, b=0),mapbox_style=\"carto-positron\",mapbox_zoom=1.5)\\nfig.show()\\n\\n# Сохраним результат\\nhtml = fig.to_html()\\nwith open(\"figures/map.html\", \"w\", encoding=\"utf-8\") as f:\\n    f.write(html)\\nmain = main.drop(\\'region_id\\', axis=1)'"
      ]
     },
     "execution_count": 34,
     "metadata": {},
     "output_type": "execute_result"
    }
   ],
   "source": [
    "# Код на географические координаты брал в интернете (может можно оптимизировать, но не хочу менять то, что работает)\n",
    "# Красивое, но лагает, раскомментить при необходимости или очистить вывод после просмотра\n",
    "'''from urllib.request import urlopen\n",
    "import json\n",
    "import requests\n",
    "with urlopen('https://raw.githubusercontent.com/codeforamerica/click_that_hood/master/public/data/russia.geojson') as response:\n",
    "    counties = json.load(response)\n",
    "\n",
    "\n",
    "regions_republic_1 = ['Бурятия', 'Тыва', 'Адыгея', 'Татарстан', 'Марий Эл', 'Алтай',\n",
    "                      'Дагестан', 'Ингушетия', 'Башкортостан']\n",
    "regions_republic_2 = ['Удмуртская республика', 'Кабардино-Балкарская республика',\n",
    "                      'Карачаево-Черкесская республика', 'Чеченская республика']\n",
    "for k in range(len(counties['features'])):\n",
    "    counties['features'][k]['id'] = k\n",
    "    if counties['features'][k]['properties']['name'] in regions_republic_1:\n",
    "        counties['features'][k]['properties']['name'] = 'Республика ' + \\\n",
    "            counties['features'][k]['properties']['name']\n",
    "    elif counties['features'][k]['properties']['name'] in regions_republic_2:\n",
    "        counties['features'][k]['properties']['name'] = counties['features'][k]['properties']['name'].title()\n",
    "    elif counties['features'][k]['properties']['name'] == 'Архангельская область':\n",
    "        counties['features'][k]['properties']['name'] = 'Архангельская область [кроме..]'\n",
    "    elif counties['features'][k]['properties']['name'] == 'Тюменская область':\n",
    "        counties['features'][k]['properties']['name'] = 'Тюменская область [кроме..]'\n",
    "    elif counties['features'][k]['properties']['name'] == 'Северная Осетия - Алания':\n",
    "        counties['features'][k]['properties']['name'] = 'Республика Северная Осетия-Алания'\n",
    "    elif counties['features'][k]['properties']['name'] == 'Чувашия':\n",
    "        counties['features'][k]['properties']['name'] = 'Чувашская Республика - Чувашия'\n",
    "    elif counties['features'][k]['properties']['name'] == 'Республика Саха (Якутия)':\n",
    "        counties['features'][k]['properties']['name'] = 'Республика Саха'\n",
    "\n",
    "region_id_list = []\n",
    "regions_list = []\n",
    "for k in range(len(counties['features'])):\n",
    "    region_id_list.append(counties['features'][k]['id'])\n",
    "    regions_list.append(counties['features'][k]['properties']['name'])\n",
    "df_regions = pd.DataFrame()\n",
    "df_regions['region_id'] = region_id_list\n",
    "df_regions['region'] = regions_list\n",
    "short_dict = {'Москва': 'Город Москва',\n",
    "              'Санкт-Петербург': 'Город Санкт-Петербург',\n",
    "              'Город Санкт-Петербург город федерального значения': 'Город Санкт-Петербург',\n",
    "              'Город федерального значения Севастополь': 'Город Севастополь',\n",
    "              'Архангельская область (кроме Ненецкого автономного округа)': 'Архангельская область [кроме..]',\n",
    "              'Тюменская область (кроме Ханты-Мансийского автономного округа-Югры и Ямало-Ненецкого автономного округа)': 'Тюменская область [кроме..]',\n",
    "              'Чувашская Республика': 'Чувашская Республика - Чувашия',\n",
    "              'Ханты-Мансийский автономный округ': 'Ханты-Мансийский автономный округ - Югра',\n",
    "              'Кемеровская область': 'Кемеровская область - Кузбасс'}\n",
    "df_regions.region = df_regions.region.apply(\n",
    "    lambda x: short_dict[x] if x in short_dict else x)\n",
    "\n",
    "main = main.merge(df_regions, how='left', on=['region'])\n",
    "\n",
    "\n",
    "\n",
    "# строим график\n",
    "fig = px.choropleth_mapbox(geojson=counties,\n",
    "    data_frame=main,\n",
    "    locations=\"region_id\",\n",
    "    color=\"poverty_percent\",\n",
    "    animation_frame=\"year\",\n",
    "    hover_data = {'region_id':False,'year':False, 'poverty_percent':True,'region':True},\n",
    "    color_continuous_scale = \"Temps\",\n",
    "    width=1000,\n",
    "    height=600,\n",
    "    center = {\"lat\": 66, \"lon\": 110}\n",
    "\n",
    ")\n",
    "\n",
    "fig.update_geos(fitbounds=\"locations\", visible=False)\n",
    "fig.update_layout(margin=dict(l=0, r=0, t=0, b=0),mapbox_style=\"carto-positron\",mapbox_zoom=1.5)\n",
    "fig.show()\n",
    "\n",
    "# Сохраним результат\n",
    "html = fig.to_html()\n",
    "with open(\"figures/map.html\", \"w\", encoding=\"utf-8\") as f:\n",
    "    f.write(html)\n",
    "main = main.drop('region_id', axis=1)'''"
   ]
  },
  {
   "cell_type": "markdown",
   "metadata": {},
   "source": [
    "## Процент бедности"
   ]
  },
  {
   "cell_type": "code",
   "execution_count": 35,
   "metadata": {},
   "outputs": [],
   "source": [
    "# Удаляю нулевые проценты бедности\n",
    "main = main.replace(0, np.nan).dropna()\n",
    "# DF для визуализаций с РФ\n",
    "vis = pd.concat([rf_main, main])"
   ]
  },
  {
   "cell_type": "code",
   "execution_count": 37,
   "metadata": {},
   "outputs": [
    {
     "data": {
      "application/vnd.plotly.v1+json": {
       "config": {
        "plotlyServerURL": "https://plot.ly"
       },
       "data": [
        {
         "hovertemplate": "region=Российская Федерация<br>year=%{x}<br>poverty_percent=%{y}<extra></extra>",
         "legendgroup": "Российская Федерация",
         "line": {
          "color": "#636efa",
          "dash": "solid"
         },
         "marker": {
          "symbol": "circle"
         },
         "mode": "lines",
         "name": "Российская Федерация",
         "showlegend": true,
         "type": "scattergl",
         "x": [
          1992,
          1993,
          1994,
          1995,
          1996,
          1997,
          1998,
          1999,
          2000,
          2001,
          2002,
          2003,
          2004,
          2005,
          2006,
          2007,
          2008,
          2009,
          2010,
          2011,
          2012,
          2013,
          2014,
          2015,
          2016,
          2017,
          2018,
          2019,
          2020
         ],
         "xaxis": "x",
         "y": [
          33.5,
          31.3,
          22.4,
          24.8,
          22.1,
          20.8,
          23.4,
          28.4,
          29,
          27.5,
          24.6,
          20.3,
          17.6,
          17.8,
          15.2,
          13.3,
          13.4,
          13,
          12.5,
          12.7,
          10.7,
          10.8,
          11.3,
          13.4,
          13.2,
          12.9,
          12.6,
          12.3,
          12.1
         ],
         "yaxis": "y"
        },
        {
         "hovertemplate": "region=Белгородская область<br>year=%{x}<br>poverty_percent=%{y}<extra></extra>",
         "legendgroup": "Белгородская область",
         "line": {
          "color": "#EF553B",
          "dash": "solid"
         },
         "marker": {
          "symbol": "circle"
         },
         "mode": "lines",
         "name": "Белгородская область",
         "showlegend": true,
         "type": "scattergl",
         "x": [
          1995,
          1996,
          1997,
          1998,
          1999,
          2000,
          2001,
          2002,
          2003,
          2004,
          2005,
          2006,
          2007,
          2008,
          2009,
          2010,
          2011,
          2012,
          2013,
          2014,
          2015,
          2016,
          2017,
          2018,
          2019,
          2020
         ],
         "xaxis": "x",
         "y": [
          19.9,
          17.6,
          18.9,
          20.1,
          24.2,
          33.6,
          29.1,
          25.4,
          22.9,
          20.7,
          18.1,
          15.1,
          12.5,
          10,
          10.1,
          8.2,
          8.6,
          6.5,
          7.6,
          7.7,
          8.5,
          8.1,
          7.8,
          7.5,
          7.8,
          7.2
         ],
         "yaxis": "y"
        },
        {
         "hovertemplate": "region=Брянская область<br>year=%{x}<br>poverty_percent=%{y}<extra></extra>",
         "legendgroup": "Брянская область",
         "line": {
          "color": "#00cc96",
          "dash": "solid"
         },
         "marker": {
          "symbol": "circle"
         },
         "mode": "lines",
         "name": "Брянская область",
         "showlegend": true,
         "type": "scattergl",
         "x": [
          1995,
          1996,
          1997,
          1998,
          1999,
          2000,
          2001,
          2002,
          2003,
          2004,
          2005,
          2006,
          2007,
          2008,
          2009,
          2010,
          2011,
          2012,
          2013,
          2014,
          2015,
          2016,
          2017,
          2018,
          2019,
          2020
         ],
         "xaxis": "x",
         "y": [
          22.7,
          19.2,
          18.4,
          25.3,
          39.6,
          42.3,
          35.8,
          31.2,
          26.7,
          25.2,
          20,
          19.4,
          18.3,
          15.7,
          15.2,
          13.5,
          12.6,
          10.5,
          12.6,
          13.2,
          14.1,
          14.4,
          14.2,
          13.6,
          13.8,
          13.6
         ],
         "yaxis": "y"
        },
        {
         "hovertemplate": "region=Владимирская область<br>year=%{x}<br>poverty_percent=%{y}<extra></extra>",
         "legendgroup": "Владимирская область",
         "line": {
          "color": "#ab63fa",
          "dash": "solid"
         },
         "marker": {
          "symbol": "circle"
         },
         "mode": "lines",
         "name": "Владимирская область",
         "showlegend": true,
         "type": "scattergl",
         "x": [
          1995,
          1996,
          1997,
          1998,
          1999,
          2000,
          2001,
          2002,
          2003,
          2004,
          2005,
          2006,
          2007,
          2008,
          2009,
          2010,
          2011,
          2012,
          2013,
          2014,
          2015,
          2016,
          2017,
          2018,
          2019,
          2020
         ],
         "xaxis": "x",
         "y": [
          27.6,
          26.7,
          23.9,
          27.7,
          37.5,
          44.7,
          40.7,
          35.3,
          30.3,
          29.7,
          29.5,
          25.5,
          23.1,
          19.9,
          19.5,
          17.3,
          17.5,
          15,
          14.1,
          14.2,
          14.7,
          14.6,
          13.2,
          13.1,
          12.6,
          12.5
         ],
         "yaxis": "y"
        },
        {
         "hovertemplate": "region=Воронежская область<br>year=%{x}<br>poverty_percent=%{y}<extra></extra>",
         "legendgroup": "Воронежская область",
         "line": {
          "color": "#FFA15A",
          "dash": "solid"
         },
         "marker": {
          "symbol": "circle"
         },
         "mode": "lines",
         "name": "Воронежская область",
         "showlegend": true,
         "type": "scattergl",
         "x": [
          1995,
          1996,
          1997,
          1998,
          1999,
          2000,
          2001,
          2002,
          2003,
          2004,
          2005,
          2006,
          2007,
          2008,
          2009,
          2010,
          2011,
          2012,
          2013,
          2014,
          2015,
          2016,
          2017,
          2018,
          2019,
          2020
         ],
         "xaxis": "x",
         "y": [
          23.1,
          25.1,
          20.2,
          20.1,
          29.4,
          41.9,
          36.6,
          33.8,
          28.9,
          25.4,
          23.7,
          20.2,
          20,
          18.2,
          20.1,
          18.4,
          17.2,
          10.3,
          9.4,
          9.2,
          9.5,
          9.4,
          9,
          8.9,
          8.9,
          8.5
         ],
         "yaxis": "y"
        },
        {
         "hovertemplate": "region=Ивановская область<br>year=%{x}<br>poverty_percent=%{y}<extra></extra>",
         "legendgroup": "Ивановская область",
         "line": {
          "color": "#19d3f3",
          "dash": "solid"
         },
         "marker": {
          "symbol": "circle"
         },
         "mode": "lines",
         "name": "Ивановская область",
         "showlegend": true,
         "type": "scattergl",
         "x": [
          1995,
          1996,
          1997,
          1998,
          1999,
          2000,
          2001,
          2002,
          2003,
          2004,
          2005,
          2006,
          2007,
          2008,
          2009,
          2010,
          2011,
          2012,
          2013,
          2014,
          2015,
          2016,
          2017,
          2018,
          2019,
          2020
         ],
         "xaxis": "x",
         "y": [
          33.3,
          31.4,
          26.5,
          30,
          59.5,
          68.4,
          68.2,
          60.8,
          53.3,
          47.6,
          41.3,
          34.6,
          31.6,
          22.6,
          22.7,
          20.1,
          19,
          13.8,
          14.4,
          14.6,
          16,
          14.9,
          14.3,
          14.7,
          14.2,
          13.7
         ],
         "yaxis": "y"
        },
        {
         "hovertemplate": "region=Калужская область<br>year=%{x}<br>poverty_percent=%{y}<extra></extra>",
         "legendgroup": "Калужская область",
         "line": {
          "color": "#FF6692",
          "dash": "solid"
         },
         "marker": {
          "symbol": "circle"
         },
         "mode": "lines",
         "name": "Калужская область",
         "showlegend": true,
         "type": "scattergl",
         "x": [
          1995,
          1996,
          1997,
          1998,
          1999,
          2000,
          2001,
          2002,
          2003,
          2004,
          2005,
          2006,
          2007,
          2008,
          2009,
          2010,
          2011,
          2012,
          2013,
          2014,
          2015,
          2016,
          2017,
          2018,
          2019,
          2020
         ],
         "xaxis": "x",
         "y": [
          26.6,
          24.5,
          24.7,
          24.2,
          42.3,
          45.5,
          40.3,
          35,
          29.6,
          23.2,
          19.9,
          17.4,
          14,
          12.9,
          12.3,
          11.3,
          11.1,
          8.5,
          9.4,
          9.7,
          10.8,
          10.3,
          10,
          10.4,
          10.2,
          9.7
         ],
         "yaxis": "y"
        },
        {
         "hovertemplate": "region=Костромская область<br>year=%{x}<br>poverty_percent=%{y}<extra></extra>",
         "legendgroup": "Костромская область",
         "line": {
          "color": "#B6E880",
          "dash": "solid"
         },
         "marker": {
          "symbol": "circle"
         },
         "mode": "lines",
         "name": "Костромская область",
         "showlegend": true,
         "type": "scattergl",
         "x": [
          1995,
          1996,
          1997,
          1998,
          1999,
          2000,
          2001,
          2002,
          2003,
          2004,
          2005,
          2006,
          2007,
          2008,
          2009,
          2010,
          2011,
          2012,
          2013,
          2014,
          2015,
          2016,
          2017,
          2018,
          2019,
          2020
         ],
         "xaxis": "x",
         "y": [
          29.9,
          21.2,
          19.3,
          25.3,
          38.3,
          37.5,
          36.6,
          35.5,
          33.1,
          28.4,
          23.2,
          18.9,
          18.4,
          18.2,
          19,
          15.7,
          16.5,
          15.1,
          14.2,
          13.6,
          14.3,
          13.7,
          13.4,
          12.7,
          12.6,
          12.5
         ],
         "yaxis": "y"
        },
        {
         "hovertemplate": "region=Курская область<br>year=%{x}<br>poverty_percent=%{y}<extra></extra>",
         "legendgroup": "Курская область",
         "line": {
          "color": "#FF97FF",
          "dash": "solid"
         },
         "marker": {
          "symbol": "circle"
         },
         "mode": "lines",
         "name": "Курская область",
         "showlegend": true,
         "type": "scattergl",
         "x": [
          1995,
          1996,
          1997,
          1998,
          1999,
          2000,
          2001,
          2002,
          2003,
          2004,
          2005,
          2006,
          2007,
          2008,
          2009,
          2010,
          2011,
          2012,
          2013,
          2014,
          2015,
          2016,
          2017,
          2018,
          2019,
          2020
         ],
         "xaxis": "x",
         "y": [
          19.9,
          24.9,
          22.1,
          25.1,
          36.6,
          42.2,
          39.5,
          33.7,
          30.7,
          24.9,
          20.2,
          15.3,
          12.5,
          11.1,
          11.7,
          10.8,
          10.4,
          8.2,
          9.6,
          9.2,
          10.4,
          10.5,
          10.3,
          9.9,
          9.9,
          9.9
         ],
         "yaxis": "y"
        },
        {
         "hovertemplate": "region=Липецкая область<br>year=%{x}<br>poverty_percent=%{y}<extra></extra>",
         "legendgroup": "Липецкая область",
         "line": {
          "color": "#FECB52",
          "dash": "solid"
         },
         "marker": {
          "symbol": "circle"
         },
         "mode": "lines",
         "name": "Липецкая область",
         "showlegend": true,
         "type": "scattergl",
         "x": [
          1995,
          1996,
          1997,
          1998,
          1999,
          2000,
          2001,
          2002,
          2003,
          2004,
          2005,
          2006,
          2007,
          2008,
          2009,
          2010,
          2011,
          2012,
          2013,
          2014,
          2015,
          2016,
          2017,
          2018,
          2019,
          2020
         ],
         "xaxis": "x",
         "y": [
          18.6,
          17.3,
          17.5,
          19.4,
          30.7,
          30.9,
          24.8,
          25.8,
          22.2,
          19.1,
          15.4,
          11.6,
          10.9,
          10.5,
          9.9,
          9.9,
          10.6,
          8.4,
          7.9,
          8.3,
          9.3,
          9.2,
          8.8,
          8.7,
          8.6,
          8.4
         ],
         "yaxis": "y"
        },
        {
         "hovertemplate": "region=Московская область<br>year=%{x}<br>poverty_percent=%{y}<extra></extra>",
         "legendgroup": "Московская область",
         "line": {
          "color": "#636efa",
          "dash": "solid"
         },
         "marker": {
          "symbol": "circle"
         },
         "mode": "lines",
         "name": "Московская область",
         "showlegend": true,
         "type": "scattergl",
         "x": [
          1995,
          1996,
          1997,
          1998,
          1999,
          2000,
          2001,
          2002,
          2003,
          2004,
          2005,
          2006,
          2007,
          2008,
          2009,
          2010,
          2011,
          2012,
          2013,
          2014,
          2015,
          2016,
          2017,
          2018,
          2019,
          2020
         ],
         "xaxis": "x",
         "y": [
          31.7,
          24,
          20.3,
          22.3,
          27.7,
          35.2,
          30.9,
          27.4,
          26.1,
          21.8,
          18.4,
          13,
          11,
          9.3,
          10.6,
          10.1,
          9.6,
          6.9,
          7.5,
          7.6,
          8.3,
          7.8,
          7.9,
          7.3,
          7.3,
          6.8
         ],
         "yaxis": "y"
        },
        {
         "hovertemplate": "region=Орловская область<br>year=%{x}<br>poverty_percent=%{y}<extra></extra>",
         "legendgroup": "Орловская область",
         "line": {
          "color": "#EF553B",
          "dash": "solid"
         },
         "marker": {
          "symbol": "circle"
         },
         "mode": "lines",
         "name": "Орловская область",
         "showlegend": true,
         "type": "scattergl",
         "x": [
          1995,
          1996,
          1997,
          1998,
          1999,
          2000,
          2001,
          2002,
          2003,
          2004,
          2005,
          2006,
          2007,
          2008,
          2009,
          2010,
          2011,
          2012,
          2013,
          2014,
          2015,
          2016,
          2017,
          2018,
          2019,
          2020
         ],
         "xaxis": "x",
         "y": [
          22.7,
          20.1,
          21.4,
          25.1,
          34.6,
          41.6,
          35.1,
          30.6,
          28,
          24.3,
          23.5,
          20.8,
          19.4,
          16.3,
          17.5,
          14.7,
          14.5,
          11.3,
          13.3,
          13.5,
          14.5,
          14.2,
          13.9,
          13.5,
          13.6,
          12.9
         ],
         "yaxis": "y"
        },
        {
         "hovertemplate": "region=Рязанская область<br>year=%{x}<br>poverty_percent=%{y}<extra></extra>",
         "legendgroup": "Рязанская область",
         "line": {
          "color": "#00cc96",
          "dash": "solid"
         },
         "marker": {
          "symbol": "circle"
         },
         "mode": "lines",
         "name": "Рязанская область",
         "showlegend": true,
         "type": "scattergl",
         "x": [
          1995,
          1996,
          1997,
          1998,
          1999,
          2000,
          2001,
          2002,
          2003,
          2004,
          2005,
          2006,
          2007,
          2008,
          2009,
          2010,
          2011,
          2012,
          2013,
          2014,
          2015,
          2016,
          2017,
          2018,
          2019,
          2020
         ],
         "xaxis": "x",
         "y": [
          24.4,
          23.4,
          21.2,
          28.4,
          46.9,
          49.3,
          38.3,
          31.3,
          27.7,
          27.9,
          22.7,
          20.5,
          17.3,
          14.6,
          15.9,
          15,
          16,
          12.5,
          12.3,
          11,
          13,
          12.8,
          13.3,
          13,
          12.7,
          12.8
         ],
         "yaxis": "y"
        },
        {
         "hovertemplate": "region=Смоленская область<br>year=%{x}<br>poverty_percent=%{y}<extra></extra>",
         "legendgroup": "Смоленская область",
         "line": {
          "color": "#ab63fa",
          "dash": "solid"
         },
         "marker": {
          "symbol": "circle"
         },
         "mode": "lines",
         "name": "Смоленская область",
         "showlegend": true,
         "type": "scattergl",
         "x": [
          1995,
          1996,
          1997,
          1998,
          1999,
          2000,
          2001,
          2002,
          2003,
          2004,
          2005,
          2006,
          2007,
          2008,
          2009,
          2010,
          2011,
          2012,
          2013,
          2014,
          2015,
          2016,
          2017,
          2018,
          2019,
          2020
         ],
         "xaxis": "x",
         "y": [
          19.5,
          20.3,
          18,
          22.9,
          32,
          29.8,
          27,
          25.2,
          23.4,
          21.2,
          18.1,
          19.7,
          18,
          14.9,
          15.4,
          15.2,
          17.3,
          14.8,
          15.7,
          15.7,
          17.6,
          17.8,
          16.9,
          16.4,
          16.3,
          15.6
         ],
         "yaxis": "y"
        },
        {
         "hovertemplate": "region=Тамбовская область<br>year=%{x}<br>poverty_percent=%{y}<extra></extra>",
         "legendgroup": "Тамбовская область",
         "line": {
          "color": "#FFA15A",
          "dash": "solid"
         },
         "marker": {
          "symbol": "circle"
         },
         "mode": "lines",
         "name": "Тамбовская область",
         "showlegend": true,
         "type": "scattergl",
         "x": [
          1995,
          1996,
          1997,
          1998,
          1999,
          2000,
          2001,
          2002,
          2003,
          2004,
          2005,
          2006,
          2007,
          2008,
          2009,
          2010,
          2011,
          2012,
          2013,
          2014,
          2015,
          2016,
          2017,
          2018,
          2019,
          2020
         ],
         "xaxis": "x",
         "y": [
          21.7,
          22.6,
          20.7,
          24.4,
          30.7,
          45.9,
          36.5,
          27.2,
          22.9,
          21.3,
          16.9,
          15,
          13.7,
          11.3,
          11.9,
          10.8,
          10.7,
          9.4,
          8.2,
          9.6,
          10.7,
          10.6,
          10.4,
          9.8,
          10.7,
          10.8
         ],
         "yaxis": "y"
        },
        {
         "hovertemplate": "region=Тверская область<br>year=%{x}<br>poverty_percent=%{y}<extra></extra>",
         "legendgroup": "Тверская область",
         "line": {
          "color": "#19d3f3",
          "dash": "solid"
         },
         "marker": {
          "symbol": "circle"
         },
         "mode": "lines",
         "name": "Тверская область",
         "showlegend": true,
         "type": "scattergl",
         "x": [
          1995,
          1996,
          1997,
          1998,
          1999,
          2000,
          2001,
          2002,
          2003,
          2004,
          2005,
          2006,
          2007,
          2008,
          2009,
          2010,
          2011,
          2012,
          2013,
          2014,
          2015,
          2016,
          2017,
          2018,
          2019,
          2020
         ],
         "xaxis": "x",
         "y": [
          28,
          23.4,
          22.1,
          27.8,
          51.7,
          51.5,
          46.9,
          38.7,
          33.7,
          26.2,
          18.6,
          13.9,
          14.8,
          13.9,
          14.1,
          13.2,
          13.5,
          11.4,
          11.6,
          11.6,
          13,
          12.8,
          12.4,
          12.2,
          11.7,
          11.4
         ],
         "yaxis": "y"
        },
        {
         "hovertemplate": "region=Тульская область<br>year=%{x}<br>poverty_percent=%{y}<extra></extra>",
         "legendgroup": "Тульская область",
         "line": {
          "color": "#FF6692",
          "dash": "solid"
         },
         "marker": {
          "symbol": "circle"
         },
         "mode": "lines",
         "name": "Тульская область",
         "showlegend": true,
         "type": "scattergl",
         "x": [
          1995,
          1996,
          1997,
          1998,
          1999,
          2000,
          2001,
          2002,
          2003,
          2004,
          2005,
          2006,
          2007,
          2008,
          2009,
          2010,
          2011,
          2012,
          2013,
          2014,
          2015,
          2016,
          2017,
          2018,
          2019,
          2020
         ],
         "xaxis": "x",
         "y": [
          16.2,
          16.8,
          15.8,
          22,
          34.2,
          32.2,
          25.9,
          21.8,
          20.5,
          20.1,
          17.4,
          14.8,
          14.5,
          13.1,
          12.5,
          11,
          10.9,
          9.5,
          9.7,
          9.8,
          10.6,
          10,
          9.9,
          10,
          10.3,
          10.1
         ],
         "yaxis": "y"
        },
        {
         "hovertemplate": "region=Ярославская область<br>year=%{x}<br>poverty_percent=%{y}<extra></extra>",
         "legendgroup": "Ярославская область",
         "line": {
          "color": "#B6E880",
          "dash": "solid"
         },
         "marker": {
          "symbol": "circle"
         },
         "mode": "lines",
         "name": "Ярославская область",
         "showlegend": true,
         "type": "scattergl",
         "x": [
          1995,
          1996,
          1997,
          1998,
          1999,
          2000,
          2001,
          2002,
          2003,
          2004,
          2005,
          2006,
          2007,
          2008,
          2009,
          2010,
          2011,
          2012,
          2013,
          2014,
          2015,
          2016,
          2017,
          2018,
          2019,
          2020
         ],
         "xaxis": "x",
         "y": [
          21.3,
          20.4,
          18.5,
          22.5,
          27,
          30.7,
          26.8,
          21.4,
          19.2,
          16.5,
          17.2,
          13.4,
          14.8,
          14.1,
          15.6,
          12.8,
          13.4,
          10.9,
          10.8,
          10.3,
          10.8,
          11,
          10.7,
          10.2,
          10.3,
          9.9
         ],
         "yaxis": "y"
        },
        {
         "hovertemplate": "region=Город Москва<br>year=%{x}<br>poverty_percent=%{y}<extra></extra>",
         "legendgroup": "Город Москва",
         "line": {
          "color": "#FF97FF",
          "dash": "solid"
         },
         "marker": {
          "symbol": "circle"
         },
         "mode": "lines",
         "name": "Город Москва",
         "showlegend": true,
         "type": "scattergl",
         "x": [
          1995,
          1996,
          1997,
          1998,
          1999,
          2000,
          2001,
          2002,
          2003,
          2004,
          2005,
          2006,
          2007,
          2008,
          2009,
          2010,
          2011,
          2012,
          2013,
          2014,
          2015,
          2016,
          2017,
          2018,
          2019,
          2020
         ],
         "xaxis": "x",
         "y": [
          19.2,
          18,
          16.5,
          16.4,
          22.4,
          23.6,
          21.8,
          20.7,
          18.6,
          14.7,
          13.3,
          13.5,
          11.9,
          12.5,
          10.3,
          10,
          10,
          9.6,
          8.7,
          8.8,
          8.9,
          8.5,
          7.5,
          6.6,
          6.4,
          6
         ],
         "yaxis": "y"
        },
        {
         "hovertemplate": "region=Республика Карелия<br>year=%{x}<br>poverty_percent=%{y}<extra></extra>",
         "legendgroup": "Республика Карелия",
         "line": {
          "color": "#FECB52",
          "dash": "solid"
         },
         "marker": {
          "symbol": "circle"
         },
         "mode": "lines",
         "name": "Республика Карелия",
         "showlegend": true,
         "type": "scattergl",
         "x": [
          1995,
          1996,
          1997,
          1998,
          1999,
          2000,
          2001,
          2002,
          2003,
          2004,
          2005,
          2006,
          2007,
          2008,
          2009,
          2010,
          2011,
          2012,
          2013,
          2014,
          2015,
          2016,
          2017,
          2018,
          2019,
          2020
         ],
         "xaxis": "x",
         "y": [
          23,
          20.5,
          19,
          22.9,
          25.4,
          22.3,
          23,
          18.8,
          18.9,
          18.1,
          15.9,
          14.6,
          16,
          15.6,
          15.8,
          14.9,
          15.7,
          13.6,
          13.4,
          14.1,
          16.2,
          16.7,
          16.5,
          15.6,
          15.7,
          15.1
         ],
         "yaxis": "y"
        },
        {
         "hovertemplate": "region=Республика Коми<br>year=%{x}<br>poverty_percent=%{y}<extra></extra>",
         "legendgroup": "Республика Коми",
         "line": {
          "color": "#636efa",
          "dash": "solid"
         },
         "marker": {
          "symbol": "circle"
         },
         "mode": "lines",
         "name": "Республика Коми",
         "showlegend": true,
         "type": "scattergl",
         "x": [
          1995,
          1996,
          1997,
          1998,
          1999,
          2000,
          2001,
          2002,
          2003,
          2004,
          2005,
          2006,
          2007,
          2008,
          2009,
          2010,
          2011,
          2012,
          2013,
          2014,
          2015,
          2016,
          2017,
          2018,
          2019,
          2020
         ],
         "xaxis": "x",
         "y": [
          18.4,
          19.3,
          14.8,
          16.1,
          20.9,
          26.3,
          21,
          19.4,
          18.4,
          16.7,
          14.9,
          14.6,
          13.8,
          15.1,
          16.5,
          15.6,
          16.3,
          13.4,
          14,
          14.9,
          15.6,
          16.1,
          15.7,
          14.9,
          15.5,
          15.3
         ],
         "yaxis": "y"
        },
        {
         "hovertemplate": "region=Архангельская область <br>year=%{x}<br>poverty_percent=%{y}<extra></extra>",
         "legendgroup": "Архангельская область ",
         "line": {
          "color": "#EF553B",
          "dash": "solid"
         },
         "marker": {
          "symbol": "circle"
         },
         "mode": "lines",
         "name": "Архангельская область ",
         "showlegend": true,
         "type": "scattergl",
         "x": [
          1995,
          1996,
          1997,
          1998,
          1999,
          2000,
          2001,
          2002,
          2003,
          2004,
          2005,
          2006,
          2007,
          2008,
          2009,
          2010,
          2011,
          2012,
          2013,
          2014,
          2015,
          2016,
          2017,
          2018,
          2019,
          2020
         ],
         "xaxis": "x",
         "y": [
          26.2,
          26.8,
          23.9,
          31.6,
          42.6,
          33.5,
          27.4,
          26.5,
          23.5,
          19.6,
          17.5,
          17.2,
          15.9,
          14.4,
          13.6,
          14,
          14.4,
          13,
          14.5,
          14.5,
          16.2,
          14.9,
          13.9,
          12.5,
          12.7,
          12.3
         ],
         "yaxis": "y"
        },
        {
         "hovertemplate": "region=Ненецкий автономный округ<br>year=%{x}<br>poverty_percent=%{y}<extra></extra>",
         "legendgroup": "Ненецкий автономный округ",
         "line": {
          "color": "#00cc96",
          "dash": "solid"
         },
         "marker": {
          "symbol": "circle"
         },
         "mode": "lines",
         "name": "Ненецкий автономный округ",
         "showlegend": true,
         "type": "scattergl",
         "x": [
          2000,
          2001,
          2002,
          2003,
          2004,
          2005,
          2006,
          2007,
          2008,
          2009,
          2010,
          2011,
          2012,
          2013,
          2014,
          2015,
          2016,
          2017,
          2018,
          2019,
          2020
         ],
         "xaxis": "x",
         "y": [
          37.9,
          26.9,
          21.5,
          8.3,
          8.2,
          9,
          8,
          5.7,
          5.6,
          7.3,
          7.5,
          7.7,
          6.5,
          7.8,
          8.9,
          9.4,
          10.1,
          10.6,
          9.7,
          9.4,
          9.4
         ],
         "yaxis": "y"
        },
        {
         "hovertemplate": "region=Вологодская область<br>year=%{x}<br>poverty_percent=%{y}<extra></extra>",
         "legendgroup": "Вологодская область",
         "line": {
          "color": "#ab63fa",
          "dash": "solid"
         },
         "marker": {
          "symbol": "circle"
         },
         "mode": "lines",
         "name": "Вологодская область",
         "showlegend": true,
         "type": "scattergl",
         "x": [
          1995,
          1996,
          1997,
          1998,
          1999,
          2000,
          2001,
          2002,
          2003,
          2004,
          2005,
          2006,
          2007,
          2008,
          2009,
          2010,
          2011,
          2012,
          2013,
          2014,
          2015,
          2016,
          2017,
          2018,
          2019,
          2020
         ],
         "xaxis": "x",
         "y": [
          19.9,
          21.1,
          18.6,
          22.7,
          33.5,
          25.5,
          23.1,
          22.8,
          20,
          17.9,
          18.3,
          16.5,
          14.8,
          15.7,
          18.2,
          16.8,
          17.1,
          13.2,
          14,
          13.5,
          14.5,
          13.8,
          13.9,
          13.5,
          12.9,
          12.8
         ],
         "yaxis": "y"
        },
        {
         "hovertemplate": "region=Калининградская область<br>year=%{x}<br>poverty_percent=%{y}<extra></extra>",
         "legendgroup": "Калининградская область",
         "line": {
          "color": "#FFA15A",
          "dash": "solid"
         },
         "marker": {
          "symbol": "circle"
         },
         "mode": "lines",
         "name": "Калининградская область",
         "showlegend": true,
         "type": "scattergl",
         "x": [
          1995,
          1996,
          1997,
          1998,
          1999,
          2000,
          2001,
          2002,
          2003,
          2004,
          2005,
          2006,
          2007,
          2008,
          2009,
          2010,
          2011,
          2012,
          2013,
          2014,
          2015,
          2016,
          2017,
          2018,
          2019,
          2020
         ],
         "xaxis": "x",
         "y": [
          27.2,
          25.6,
          25,
          25.5,
          30.2,
          37.7,
          39.1,
          39.6,
          28,
          25.4,
          19.9,
          14.2,
          12.4,
          13.6,
          13.1,
          12.4,
          12.7,
          10.8,
          12.7,
          12.4,
          13.6,
          14.1,
          13.8,
          13.6,
          13.5,
          13.5
         ],
         "yaxis": "y"
        },
        {
         "hovertemplate": "region=Ленинградская область<br>year=%{x}<br>poverty_percent=%{y}<extra></extra>",
         "legendgroup": "Ленинградская область",
         "line": {
          "color": "#19d3f3",
          "dash": "solid"
         },
         "marker": {
          "symbol": "circle"
         },
         "mode": "lines",
         "name": "Ленинградская область",
         "showlegend": true,
         "type": "scattergl",
         "x": [
          1995,
          1996,
          1997,
          1998,
          1999,
          2000,
          2001,
          2002,
          2003,
          2004,
          2005,
          2006,
          2007,
          2008,
          2009,
          2010,
          2011,
          2012,
          2013,
          2014,
          2015,
          2016,
          2017,
          2018,
          2019,
          2020
         ],
         "xaxis": "x",
         "y": [
          29.5,
          24.1,
          24.7,
          35.5,
          53.1,
          50.9,
          48.1,
          42.1,
          37,
          24.8,
          21.1,
          14.9,
          13.2,
          13.5,
          14.1,
          12.6,
          13,
          11.9,
          10.7,
          9.8,
          10.3,
          9.7,
          9,
          8.4,
          8.8,
          8.7
         ],
         "yaxis": "y"
        },
        {
         "hovertemplate": "region=Мурманская область<br>year=%{x}<br>poverty_percent=%{y}<extra></extra>",
         "legendgroup": "Мурманская область",
         "line": {
          "color": "#FF6692",
          "dash": "solid"
         },
         "marker": {
          "symbol": "circle"
         },
         "mode": "lines",
         "name": "Мурманская область",
         "showlegend": true,
         "type": "scattergl",
         "x": [
          1995,
          1996,
          1997,
          1998,
          1999,
          2000,
          2001,
          2002,
          2003,
          2004,
          2005,
          2006,
          2007,
          2008,
          2009,
          2010,
          2011,
          2012,
          2013,
          2014,
          2015,
          2016,
          2017,
          2018,
          2019,
          2020
         ],
         "xaxis": "x",
         "y": [
          22,
          18.1,
          16.4,
          17.9,
          21.3,
          24.9,
          22.3,
          22.6,
          21.1,
          19.4,
          19.1,
          17.4,
          14.6,
          13.8,
          13.5,
          13.2,
          13.6,
          11.1,
          11,
          11,
          12.7,
          12,
          11.3,
          9.9,
          10.6,
          10.1
         ],
         "yaxis": "y"
        },
        {
         "hovertemplate": "region=Новгородская область<br>year=%{x}<br>poverty_percent=%{y}<extra></extra>",
         "legendgroup": "Новгородская область",
         "line": {
          "color": "#B6E880",
          "dash": "solid"
         },
         "marker": {
          "symbol": "circle"
         },
         "mode": "lines",
         "name": "Новгородская область",
         "showlegend": true,
         "type": "scattergl",
         "x": [
          1995,
          1996,
          1997,
          1998,
          1999,
          2000,
          2001,
          2002,
          2003,
          2004,
          2005,
          2006,
          2007,
          2008,
          2009,
          2010,
          2011,
          2012,
          2013,
          2014,
          2015,
          2016,
          2017,
          2018,
          2019,
          2020
         ],
         "xaxis": "x",
         "y": [
          22.8,
          17.2,
          17.6,
          17.7,
          32.7,
          34.2,
          31.4,
          30.8,
          27.7,
          26.7,
          23.8,
          19.9,
          20.3,
          17.8,
          16.5,
          14.9,
          15,
          11.7,
          12.6,
          12.6,
          13.9,
          14.8,
          13.9,
          13.6,
          13.8,
          13.6
         ],
         "yaxis": "y"
        },
        {
         "hovertemplate": "region=Псковская область<br>year=%{x}<br>poverty_percent=%{y}<extra></extra>",
         "legendgroup": "Псковская область",
         "line": {
          "color": "#FF97FF",
          "dash": "solid"
         },
         "marker": {
          "symbol": "circle"
         },
         "mode": "lines",
         "name": "Псковская область",
         "showlegend": true,
         "type": "scattergl",
         "x": [
          1995,
          1996,
          1997,
          1998,
          1999,
          2000,
          2001,
          2002,
          2003,
          2004,
          2005,
          2006,
          2007,
          2008,
          2009,
          2010,
          2011,
          2012,
          2013,
          2014,
          2015,
          2016,
          2017,
          2018,
          2019,
          2020
         ],
         "xaxis": "x",
         "y": [
          42.7,
          32.4,
          27.4,
          34.1,
          47,
          44.8,
          37.5,
          27.5,
          20.9,
          18.2,
          19.2,
          18.3,
          16.9,
          15.9,
          16.2,
          15.6,
          16.7,
          15.4,
          15.9,
          15.8,
          19,
          19,
          17.7,
          17,
          16.2,
          16.2
         ],
         "yaxis": "y"
        },
        {
         "hovertemplate": "region=Город Санкт-Петербург<br>year=%{x}<br>poverty_percent=%{y}<extra></extra>",
         "legendgroup": "Город Санкт-Петербург",
         "line": {
          "color": "#FECB52",
          "dash": "solid"
         },
         "marker": {
          "symbol": "circle"
         },
         "mode": "lines",
         "name": "Город Санкт-Петербург",
         "showlegend": true,
         "type": "scattergl",
         "x": [
          1995,
          1996,
          1997,
          1998,
          1999,
          2000,
          2001,
          2002,
          2003,
          2004,
          2005,
          2006,
          2007,
          2008,
          2009,
          2010,
          2011,
          2012,
          2013,
          2014,
          2015,
          2016,
          2017,
          2018,
          2019,
          2020
         ],
         "xaxis": "x",
         "y": [
          20.1,
          22.6,
          23.2,
          24.7,
          33.1,
          27.3,
          23.8,
          21.2,
          15.7,
          13,
          10.3,
          10.1,
          9.6,
          11.5,
          9.4,
          8.6,
          9.1,
          9,
          8.2,
          8.7,
          8.5,
          8.3,
          7.3,
          6.5,
          6.4,
          5.9
         ],
         "yaxis": "y"
        },
        {
         "hovertemplate": "region=Республика Адыгея<br>year=%{x}<br>poverty_percent=%{y}<extra></extra>",
         "legendgroup": "Республика Адыгея",
         "line": {
          "color": "#636efa",
          "dash": "solid"
         },
         "marker": {
          "symbol": "circle"
         },
         "mode": "lines",
         "name": "Республика Адыгея",
         "showlegend": true,
         "type": "scattergl",
         "x": [
          1995,
          1996,
          1997,
          1998,
          1999,
          2000,
          2001,
          2002,
          2003,
          2004,
          2005,
          2006,
          2007,
          2008,
          2009,
          2010,
          2011,
          2012,
          2013,
          2014,
          2015,
          2016,
          2017,
          2018,
          2019,
          2020
         ],
         "xaxis": "x",
         "y": [
          46.5,
          37.7,
          34.5,
          38.3,
          43,
          37.2,
          41.3,
          34.6,
          34.6,
          33.6,
          33,
          32.7,
          30.1,
          23.9,
          18.4,
          16,
          14.6,
          11.3,
          12,
          11,
          13.9,
          13.4,
          13,
          12.8,
          12.6,
          12.5
         ],
         "yaxis": "y"
        },
        {
         "hovertemplate": "region=Республика Калмыкия<br>year=%{x}<br>poverty_percent=%{y}<extra></extra>",
         "legendgroup": "Республика Калмыкия",
         "line": {
          "color": "#EF553B",
          "dash": "solid"
         },
         "marker": {
          "symbol": "circle"
         },
         "mode": "lines",
         "name": "Республика Калмыкия",
         "showlegend": true,
         "type": "scattergl",
         "x": [
          1995,
          1996,
          1997,
          1998,
          1999,
          2000,
          2001,
          2002,
          2003,
          2004,
          2005,
          2006,
          2007,
          2008,
          2009,
          2010,
          2011,
          2012,
          2013,
          2014,
          2015,
          2016,
          2017,
          2018,
          2019,
          2020
         ],
         "xaxis": "x",
         "y": [
          54.6,
          52.7,
          37.2,
          49.5,
          60.3,
          66.4,
          52.6,
          56.6,
          54,
          54.4,
          61.1,
          48.1,
          45.3,
          39.7,
          36.5,
          35.7,
          35.8,
          30.7,
          33.4,
          31.8,
          29.5,
          26.7,
          24.3,
          23.6,
          23.5,
          22.7
         ],
         "yaxis": "y"
        },
        {
         "hovertemplate": "region=Республика Крым<br>year=%{x}<br>poverty_percent=%{y}<extra></extra>",
         "legendgroup": "Республика Крым",
         "line": {
          "color": "#00cc96",
          "dash": "solid"
         },
         "marker": {
          "symbol": "circle"
         },
         "mode": "lines",
         "name": "Республика Крым",
         "showlegend": true,
         "type": "scattergl",
         "x": [
          2015,
          2016,
          2017,
          2018,
          2019,
          2020
         ],
         "xaxis": "x",
         "y": [
          23.1,
          23.3,
          19.4,
          17.3,
          17.2,
          17.2
         ],
         "yaxis": "y"
        },
        {
         "hovertemplate": "region=Краснодарский край<br>year=%{x}<br>poverty_percent=%{y}<extra></extra>",
         "legendgroup": "Краснодарский край",
         "line": {
          "color": "#ab63fa",
          "dash": "solid"
         },
         "marker": {
          "symbol": "circle"
         },
         "mode": "lines",
         "name": "Краснодарский край",
         "showlegend": true,
         "type": "scattergl",
         "x": [
          1995,
          1996,
          1997,
          1998,
          1999,
          2000,
          2001,
          2002,
          2003,
          2004,
          2005,
          2006,
          2007,
          2008,
          2009,
          2010,
          2011,
          2012,
          2013,
          2014,
          2015,
          2016,
          2017,
          2018,
          2019,
          2020
         ],
         "xaxis": "x",
         "y": [
          32.6,
          24.3,
          23.7,
          25.5,
          36.9,
          43.7,
          36.8,
          32,
          28.1,
          26.7,
          26.3,
          22.6,
          19.4,
          17.7,
          18.5,
          15.2,
          13.5,
          11.2,
          10.7,
          10.3,
          11.7,
          11.6,
          10.9,
          10.3,
          10.4,
          10.4
         ],
         "yaxis": "y"
        },
        {
         "hovertemplate": "region=Астраханская область<br>year=%{x}<br>poverty_percent=%{y}<extra></extra>",
         "legendgroup": "Астраханская область",
         "line": {
          "color": "#FFA15A",
          "dash": "solid"
         },
         "marker": {
          "symbol": "circle"
         },
         "mode": "lines",
         "name": "Астраханская область",
         "showlegend": true,
         "type": "scattergl",
         "x": [
          1995,
          1996,
          1997,
          1998,
          1999,
          2000,
          2001,
          2002,
          2003,
          2004,
          2005,
          2006,
          2007,
          2008,
          2009,
          2010,
          2011,
          2012,
          2013,
          2014,
          2015,
          2016,
          2017,
          2018,
          2019,
          2020
         ],
         "xaxis": "x",
         "y": [
          32.3,
          30.7,
          25,
          30.4,
          36,
          33.4,
          31.1,
          26.2,
          22.9,
          20.3,
          19.5,
          17.5,
          16.3,
          16.3,
          15,
          14.1,
          14.2,
          12.5,
          11.8,
          12,
          14.2,
          16.1,
          15.5,
          15.1,
          15.5,
          15.6
         ],
         "yaxis": "y"
        },
        {
         "hovertemplate": "region=Волгоградская область<br>year=%{x}<br>poverty_percent=%{y}<extra></extra>",
         "legendgroup": "Волгоградская область",
         "line": {
          "color": "#19d3f3",
          "dash": "solid"
         },
         "marker": {
          "symbol": "circle"
         },
         "mode": "lines",
         "name": "Волгоградская область",
         "showlegend": true,
         "type": "scattergl",
         "x": [
          1995,
          1996,
          1997,
          1998,
          1999,
          2000,
          2001,
          2002,
          2003,
          2004,
          2005,
          2006,
          2007,
          2008,
          2009,
          2010,
          2011,
          2012,
          2013,
          2014,
          2015,
          2016,
          2017,
          2018,
          2019,
          2020
         ],
         "xaxis": "x",
         "y": [
          33.8,
          28.6,
          23.3,
          31.2,
          47.7,
          34.9,
          29.3,
          26.8,
          21.4,
          17.9,
          17.2,
          11.9,
          13,
          13.7,
          12.8,
          14,
          15.1,
          13.6,
          13,
          13.6,
          14.2,
          14.4,
          13.6,
          13.4,
          12.9,
          11.9
         ],
         "yaxis": "y"
        },
        {
         "hovertemplate": "region=Ростовская область<br>year=%{x}<br>poverty_percent=%{y}<extra></extra>",
         "legendgroup": "Ростовская область",
         "line": {
          "color": "#FF6692",
          "dash": "solid"
         },
         "marker": {
          "symbol": "circle"
         },
         "mode": "lines",
         "name": "Ростовская область",
         "showlegend": true,
         "type": "scattergl",
         "x": [
          1995,
          1996,
          1997,
          1998,
          1999,
          2000,
          2001,
          2002,
          2003,
          2004,
          2005,
          2006,
          2007,
          2008,
          2009,
          2010,
          2011,
          2012,
          2013,
          2014,
          2015,
          2016,
          2017,
          2018,
          2019,
          2020
         ],
         "xaxis": "x",
         "y": [
          34.2,
          21.8,
          20,
          21.5,
          26,
          33.1,
          30.8,
          27.9,
          23.2,
          19.2,
          18.3,
          18.5,
          16,
          14.9,
          16,
          14.9,
          15.2,
          12.9,
          13.2,
          13.1,
          14.4,
          14.2,
          13.9,
          13.2,
          13.3,
          13
         ],
         "yaxis": "y"
        },
        {
         "hovertemplate": "region=Город Севастополь<br>year=%{x}<br>poverty_percent=%{y}<extra></extra>",
         "legendgroup": "Город Севастополь",
         "line": {
          "color": "#B6E880",
          "dash": "solid"
         },
         "marker": {
          "symbol": "circle"
         },
         "mode": "lines",
         "name": "Город Севастополь",
         "showlegend": true,
         "type": "scattergl",
         "x": [
          2015,
          2016,
          2017,
          2018,
          2019,
          2020
         ],
         "xaxis": "x",
         "y": [
          15.1,
          11.7,
          10.9,
          10.8,
          11.6,
          11
         ],
         "yaxis": "y"
        },
        {
         "hovertemplate": "region=Республика Дагестан<br>year=%{x}<br>poverty_percent=%{y}<extra></extra>",
         "legendgroup": "Республика Дагестан",
         "line": {
          "color": "#FF97FF",
          "dash": "solid"
         },
         "marker": {
          "symbol": "circle"
         },
         "mode": "lines",
         "name": "Республика Дагестан",
         "showlegend": true,
         "type": "scattergl",
         "x": [
          1995,
          1996,
          1997,
          1998,
          1999,
          2000,
          2001,
          2002,
          2003,
          2004,
          2005,
          2006,
          2007,
          2008,
          2009,
          2010,
          2011,
          2012,
          2013,
          2014,
          2015,
          2016,
          2017,
          2018,
          2019,
          2020
         ],
         "xaxis": "x",
         "y": [
          72.5,
          67.1,
          52.6,
          59.6,
          67.8,
          72.6,
          69,
          59.7,
          47.5,
          30.5,
          24.6,
          15.4,
          14.4,
          11.2,
          9.7,
          8.8,
          8.3,
          7,
          10.2,
          10.2,
          11,
          13,
          14.5,
          14.6,
          14.6,
          14.8
         ],
         "yaxis": "y"
        },
        {
         "hovertemplate": "region=Республика Ингушетия<br>year=%{x}<br>poverty_percent=%{y}<extra></extra>",
         "legendgroup": "Республика Ингушетия",
         "line": {
          "color": "#FECB52",
          "dash": "solid"
         },
         "marker": {
          "symbol": "circle"
         },
         "mode": "lines",
         "name": "Республика Ингушетия",
         "showlegend": true,
         "type": "scattergl",
         "x": [
          1995,
          1996,
          1997,
          1998,
          1999,
          2000,
          2001,
          2002,
          2003,
          2004,
          2005,
          2006,
          2007,
          2008,
          2009,
          2010,
          2011,
          2012,
          2013,
          2014,
          2015,
          2016,
          2017,
          2018,
          2019,
          2020
         ],
         "xaxis": "x",
         "y": [
          98.4,
          91.4,
          70.2,
          74.3,
          90.5,
          94.3,
          88,
          87.4,
          79.9,
          68.9,
          55.2,
          45.7,
          33.5,
          27.6,
          26,
          22.1,
          18.5,
          17.1,
          20.3,
          23.9,
          29.9,
          29.3,
          29.6,
          30.4,
          30.5,
          30
         ],
         "yaxis": "y"
        },
        {
         "hovertemplate": "region=Кабардино-Балкарская Республика<br>year=%{x}<br>poverty_percent=%{y}<extra></extra>",
         "legendgroup": "Кабардино-Балкарская Республика",
         "line": {
          "color": "#636efa",
          "dash": "solid"
         },
         "marker": {
          "symbol": "circle"
         },
         "mode": "lines",
         "name": "Кабардино-Балкарская Республика",
         "showlegend": true,
         "type": "scattergl",
         "x": [
          1995,
          1996,
          1997,
          1998,
          1999,
          2000,
          2001,
          2002,
          2003,
          2004,
          2005,
          2006,
          2007,
          2008,
          2009,
          2010,
          2011,
          2012,
          2013,
          2014,
          2015,
          2016,
          2017,
          2018,
          2019,
          2020
         ],
         "xaxis": "x",
         "y": [
          46.2,
          44.3,
          44.2,
          51.1,
          51.9,
          57.5,
          52.3,
          36.6,
          31.7,
          25.9,
          23.8,
          21.1,
          17.3,
          15.2,
          15.4,
          15.7,
          15.3,
          14.2,
          19,
          18.7,
          21.1,
          25.8,
          24.7,
          24.2,
          24.2,
          24.2
         ],
         "yaxis": "y"
        },
        {
         "hovertemplate": "region=Карачаево-Черкесская Республика<br>year=%{x}<br>poverty_percent=%{y}<extra></extra>",
         "legendgroup": "Карачаево-Черкесская Республика",
         "line": {
          "color": "#EF553B",
          "dash": "solid"
         },
         "marker": {
          "symbol": "circle"
         },
         "mode": "lines",
         "name": "Карачаево-Черкесская Республика",
         "showlegend": true,
         "type": "scattergl",
         "x": [
          1995,
          1996,
          1997,
          1998,
          1999,
          2000,
          2001,
          2002,
          2003,
          2004,
          2005,
          2006,
          2007,
          2008,
          2009,
          2010,
          2011,
          2012,
          2013,
          2014,
          2015,
          2016,
          2017,
          2018,
          2019,
          2020
         ],
         "xaxis": "x",
         "y": [
          48.5,
          55.6,
          41.5,
          52.2,
          61.2,
          62.5,
          54.4,
          40.9,
          36,
          29.6,
          27.7,
          22.7,
          20.5,
          19.5,
          18.5,
          17.7,
          18.8,
          16,
          20.3,
          19.2,
          22.8,
          23.8,
          23.2,
          22.8,
          23.3,
          23.2
         ],
         "yaxis": "y"
        },
        {
         "hovertemplate": "region=Республика Северная Осетия-Алания<br>year=%{x}<br>poverty_percent=%{y}<extra></extra>",
         "legendgroup": "Республика Северная Осетия-Алания",
         "line": {
          "color": "#00cc96",
          "dash": "solid"
         },
         "marker": {
          "symbol": "circle"
         },
         "mode": "lines",
         "name": "Республика Северная Осетия-Алания",
         "showlegend": true,
         "type": "scattergl",
         "x": [
          1995,
          1996,
          1997,
          1998,
          1999,
          2000,
          2001,
          2002,
          2003,
          2004,
          2005,
          2006,
          2007,
          2008,
          2009,
          2010,
          2011,
          2012,
          2013,
          2014,
          2015,
          2016,
          2017,
          2018,
          2019,
          2020
         ],
         "xaxis": "x",
         "y": [
          44,
          40.1,
          34.7,
          39.7,
          40.6,
          33.2,
          40.8,
          36,
          28.1,
          18.2,
          17,
          16.5,
          13.1,
          12.1,
          14,
          10.5,
          12.6,
          10.4,
          12.6,
          12.5,
          14.2,
          14.3,
          14.4,
          14,
          13.8,
          13.9
         ],
         "yaxis": "y"
        },
        {
         "hovertemplate": "region=Чеченская Республика<br>year=%{x}<br>poverty_percent=%{y}<extra></extra>",
         "legendgroup": "Чеченская Республика",
         "line": {
          "color": "#ab63fa",
          "dash": "solid"
         },
         "marker": {
          "symbol": "circle"
         },
         "mode": "lines",
         "name": "Чеченская Республика",
         "showlegend": true,
         "type": "scattergl",
         "x": [
          2012,
          2013,
          2014,
          2015,
          2016,
          2017,
          2018,
          2019,
          2020
         ],
         "xaxis": "x",
         "y": [
          21.7,
          17.8,
          14.2,
          16,
          17.3,
          20.7,
          20.5,
          20.7,
          20.4
         ],
         "yaxis": "y"
        },
        {
         "hovertemplate": "region=Ставропольский край<br>year=%{x}<br>poverty_percent=%{y}<extra></extra>",
         "legendgroup": "Ставропольский край",
         "line": {
          "color": "#FFA15A",
          "dash": "solid"
         },
         "marker": {
          "symbol": "circle"
         },
         "mode": "lines",
         "name": "Ставропольский край",
         "showlegend": true,
         "type": "scattergl",
         "x": [
          1995,
          1996,
          1997,
          1998,
          1999,
          2000,
          2001,
          2002,
          2003,
          2004,
          2005,
          2006,
          2007,
          2008,
          2009,
          2010,
          2011,
          2012,
          2013,
          2014,
          2015,
          2016,
          2017,
          2018,
          2019,
          2020
         ],
         "xaxis": "x",
         "y": [
          40,
          31.4,
          35.6,
          39,
          45.1,
          45.2,
          43.1,
          39.4,
          33.7,
          29,
          24.9,
          22.1,
          19.1,
          20.2,
          19.7,
          18.5,
          18.3,
          13.7,
          12.4,
          12.2,
          14.6,
          15,
          14.3,
          13.9,
          14,
          13.8
         ],
         "yaxis": "y"
        },
        {
         "hovertemplate": "region=Республика Башкортостан<br>year=%{x}<br>poverty_percent=%{y}<extra></extra>",
         "legendgroup": "Республика Башкортостан",
         "line": {
          "color": "#19d3f3",
          "dash": "solid"
         },
         "marker": {
          "symbol": "circle"
         },
         "mode": "lines",
         "name": "Республика Башкортостан",
         "showlegend": true,
         "type": "scattergl",
         "x": [
          1995,
          1996,
          1997,
          1998,
          1999,
          2000,
          2001,
          2002,
          2003,
          2004,
          2005,
          2006,
          2007,
          2008,
          2009,
          2010,
          2011,
          2012,
          2013,
          2014,
          2015,
          2016,
          2017,
          2018,
          2019,
          2020
         ],
         "xaxis": "x",
         "y": [
          32.4,
          28.2,
          25.2,
          26.8,
          30.4,
          33.1,
          28.3,
          23.2,
          20.3,
          17.5,
          14.9,
          14.5,
          12.8,
          11.5,
          11.2,
          12.1,
          12.6,
          10.3,
          10.4,
          10.8,
          13,
          12.5,
          12.3,
          12,
          12.1,
          11.6
         ],
         "yaxis": "y"
        },
        {
         "hovertemplate": "region=Республика Марий Эл<br>year=%{x}<br>poverty_percent=%{y}<extra></extra>",
         "legendgroup": "Республика Марий Эл",
         "line": {
          "color": "#FF6692",
          "dash": "solid"
         },
         "marker": {
          "symbol": "circle"
         },
         "mode": "lines",
         "name": "Республика Марий Эл",
         "showlegend": true,
         "type": "scattergl",
         "x": [
          1995,
          1996,
          1997,
          1998,
          1999,
          2000,
          2001,
          2002,
          2003,
          2004,
          2005,
          2006,
          2007,
          2008,
          2009,
          2010,
          2011,
          2012,
          2013,
          2014,
          2015,
          2016,
          2017,
          2018,
          2019,
          2020
         ],
         "xaxis": "x",
         "y": [
          42.7,
          56,
          51.3,
          59.1,
          56.3,
          60.2,
          58.8,
          52.5,
          49.7,
          46.5,
          39.7,
          29.9,
          27.5,
          25.4,
          24.1,
          24,
          24.2,
          20,
          19.4,
          19.5,
          22.2,
          22.1,
          21.7,
          20.4,
          20.1,
          19.5
         ],
         "yaxis": "y"
        },
        {
         "hovertemplate": "region=Республика Мордовия<br>year=%{x}<br>poverty_percent=%{y}<extra></extra>",
         "legendgroup": "Республика Мордовия",
         "line": {
          "color": "#B6E880",
          "dash": "solid"
         },
         "marker": {
          "symbol": "circle"
         },
         "mode": "lines",
         "name": "Республика Мордовия",
         "showlegend": true,
         "type": "scattergl",
         "x": [
          1995,
          1996,
          1997,
          1998,
          1999,
          2000,
          2001,
          2002,
          2003,
          2004,
          2005,
          2006,
          2007,
          2008,
          2009,
          2010,
          2011,
          2012,
          2013,
          2014,
          2015,
          2016,
          2017,
          2018,
          2019,
          2020
         ],
         "xaxis": "x",
         "y": [
          35.1,
          45.5,
          37.9,
          45.4,
          67.1,
          52.9,
          48.5,
          43.7,
          36.1,
          32,
          30.1,
          28.7,
          24.6,
          20.4,
          19.7,
          18.3,
          20.2,
          18,
          18.7,
          17.6,
          19.8,
          18.5,
          18.2,
          17.8,
          18,
          17.6
         ],
         "yaxis": "y"
        },
        {
         "hovertemplate": "region=Республика Татарстан<br>year=%{x}<br>poverty_percent=%{y}<extra></extra>",
         "legendgroup": "Республика Татарстан",
         "line": {
          "color": "#FF97FF",
          "dash": "solid"
         },
         "marker": {
          "symbol": "circle"
         },
         "mode": "lines",
         "name": "Республика Татарстан",
         "showlegend": true,
         "type": "scattergl",
         "x": [
          1995,
          1996,
          1997,
          1998,
          1999,
          2000,
          2001,
          2002,
          2003,
          2004,
          2005,
          2006,
          2007,
          2008,
          2009,
          2010,
          2011,
          2012,
          2013,
          2014,
          2015,
          2016,
          2017,
          2018,
          2019,
          2020
         ],
         "xaxis": "x",
         "y": [
          22.1,
          19.3,
          17.4,
          19.7,
          23.8,
          33.2,
          27.3,
          23.6,
          19.2,
          15.8,
          12.8,
          9.9,
          8.7,
          8.6,
          8.3,
          7.7,
          8.1,
          6.5,
          6.8,
          7,
          7.1,
          7.5,
          7.2,
          7,
          6.9,
          6.6
         ],
         "yaxis": "y"
        },
        {
         "hovertemplate": "region=Удмуртская Республика<br>year=%{x}<br>poverty_percent=%{y}<extra></extra>",
         "legendgroup": "Удмуртская Республика",
         "line": {
          "color": "#FECB52",
          "dash": "solid"
         },
         "marker": {
          "symbol": "circle"
         },
         "mode": "lines",
         "name": "Удмуртская Республика",
         "showlegend": true,
         "type": "scattergl",
         "x": [
          1995,
          1996,
          1997,
          1998,
          1999,
          2000,
          2001,
          2002,
          2003,
          2004,
          2005,
          2006,
          2007,
          2008,
          2009,
          2010,
          2011,
          2012,
          2013,
          2014,
          2015,
          2016,
          2017,
          2018,
          2019,
          2020
         ],
         "xaxis": "x",
         "y": [
          34.7,
          26.6,
          24.1,
          31,
          46.9,
          35.1,
          33.3,
          30.4,
          30.2,
          26.1,
          22.4,
          19,
          17.3,
          16.1,
          14.9,
          13.7,
          14,
          11.1,
          11.8,
          11.9,
          12.3,
          12.4,
          12.2,
          12.2,
          12.4,
          11.9
         ],
         "yaxis": "y"
        },
        {
         "hovertemplate": "region=Чувашская Республика - Чувашия<br>year=%{x}<br>poverty_percent=%{y}<extra></extra>",
         "legendgroup": "Чувашская Республика - Чувашия",
         "line": {
          "color": "#636efa",
          "dash": "solid"
         },
         "marker": {
          "symbol": "circle"
         },
         "mode": "lines",
         "name": "Чувашская Республика - Чувашия",
         "showlegend": true,
         "type": "scattergl",
         "x": [
          1995,
          1996,
          1997,
          1998,
          1999,
          2000,
          2001,
          2002,
          2003,
          2004,
          2005,
          2006,
          2007,
          2008,
          2009,
          2010,
          2011,
          2012,
          2013,
          2014,
          2015,
          2016,
          2017,
          2018,
          2019,
          2020
         ],
         "xaxis": "x",
         "y": [
          27,
          27,
          28.4,
          43,
          57.2,
          51.3,
          44.8,
          40.9,
          31.9,
          30.6,
          26.7,
          21,
          20.2,
          18.9,
          19,
          18.2,
          19.3,
          16,
          16.5,
          16.4,
          17.9,
          18.8,
          18.4,
          17.8,
          17.4,
          16.8
         ],
         "yaxis": "y"
        },
        {
         "hovertemplate": "region=Пермский край<br>year=%{x}<br>poverty_percent=%{y}<extra></extra>",
         "legendgroup": "Пермский край",
         "line": {
          "color": "#EF553B",
          "dash": "solid"
         },
         "marker": {
          "symbol": "circle"
         },
         "mode": "lines",
         "name": "Пермский край",
         "showlegend": true,
         "type": "scattergl",
         "x": [
          1995,
          1996,
          1997,
          1998,
          1999,
          2000,
          2001,
          2002,
          2003,
          2004,
          2005,
          2006,
          2007,
          2008,
          2009,
          2010,
          2011,
          2012,
          2013,
          2014,
          2015,
          2016,
          2017,
          2018,
          2019,
          2020
         ],
         "xaxis": "x",
         "y": [
          25.2,
          20.8,
          17.8,
          20.5,
          26,
          25.5,
          24.3,
          23.4,
          21.8,
          20.1,
          16.9,
          14.1,
          13.5,
          14,
          14.2,
          13.2,
          14.4,
          12.2,
          11.9,
          12.5,
          12.8,
          15.3,
          15.1,
          14.9,
          13.8,
          13.3
         ],
         "yaxis": "y"
        },
        {
         "hovertemplate": "region=Кировская область<br>year=%{x}<br>poverty_percent=%{y}<extra></extra>",
         "legendgroup": "Кировская область",
         "line": {
          "color": "#00cc96",
          "dash": "solid"
         },
         "marker": {
          "symbol": "circle"
         },
         "mode": "lines",
         "name": "Кировская область",
         "showlegend": true,
         "type": "scattergl",
         "x": [
          1995,
          1996,
          1997,
          1998,
          1999,
          2000,
          2001,
          2002,
          2003,
          2004,
          2005,
          2006,
          2007,
          2008,
          2009,
          2010,
          2011,
          2012,
          2013,
          2014,
          2015,
          2016,
          2017,
          2018,
          2019,
          2020
         ],
         "xaxis": "x",
         "y": [
          31.5,
          30.2,
          30.2,
          39.6,
          51.1,
          45.2,
          42.2,
          34.5,
          31.2,
          26.6,
          26.2,
          22.9,
          21.4,
          16.9,
          17.6,
          14.2,
          15,
          12.4,
          14.1,
          13.1,
          15.3,
          15.9,
          15.4,
          15.2,
          14.6,
          14
         ],
         "yaxis": "y"
        },
        {
         "hovertemplate": "region=Нижегородская область<br>year=%{x}<br>poverty_percent=%{y}<extra></extra>",
         "legendgroup": "Нижегородская область",
         "line": {
          "color": "#ab63fa",
          "dash": "solid"
         },
         "marker": {
          "symbol": "circle"
         },
         "mode": "lines",
         "name": "Нижегородская область",
         "showlegend": true,
         "type": "scattergl",
         "x": [
          1995,
          1996,
          1997,
          1998,
          1999,
          2000,
          2001,
          2002,
          2003,
          2004,
          2005,
          2006,
          2007,
          2008,
          2009,
          2010,
          2011,
          2012,
          2013,
          2014,
          2015,
          2016,
          2017,
          2018,
          2019,
          2020
         ],
         "xaxis": "x",
         "y": [
          22,
          19.2,
          17.3,
          19.5,
          31.8,
          35.4,
          27.2,
          22.8,
          22.8,
          20.4,
          17.5,
          15.9,
          14.2,
          13.5,
          13.4,
          12.3,
          12.5,
          10.3,
          9,
          8.8,
          9.9,
          9.8,
          10,
          9.5,
          9.5,
          9.4
         ],
         "yaxis": "y"
        },
        {
         "hovertemplate": "region=Оренбургская область<br>year=%{x}<br>poverty_percent=%{y}<extra></extra>",
         "legendgroup": "Оренбургская область",
         "line": {
          "color": "#FFA15A",
          "dash": "solid"
         },
         "marker": {
          "symbol": "circle"
         },
         "mode": "lines",
         "name": "Оренбургская область",
         "showlegend": true,
         "type": "scattergl",
         "x": [
          1995,
          1996,
          1997,
          1998,
          1999,
          2000,
          2001,
          2002,
          2003,
          2004,
          2005,
          2006,
          2007,
          2008,
          2009,
          2010,
          2011,
          2012,
          2013,
          2014,
          2015,
          2016,
          2017,
          2018,
          2019,
          2020
         ],
         "xaxis": "x",
         "y": [
          49.3,
          27.2,
          22.9,
          27.8,
          35.5,
          42.1,
          38.1,
          33.3,
          28.8,
          24.1,
          21.5,
          18.8,
          17.9,
          15.7,
          15.3,
          13.9,
          14.4,
          12.7,
          12.3,
          11.9,
          13.9,
          14.6,
          14.3,
          14.2,
          14.3,
          14
         ],
         "yaxis": "y"
        },
        {
         "hovertemplate": "region=Пензенская область<br>year=%{x}<br>poverty_percent=%{y}<extra></extra>",
         "legendgroup": "Пензенская область",
         "line": {
          "color": "#19d3f3",
          "dash": "solid"
         },
         "marker": {
          "symbol": "circle"
         },
         "mode": "lines",
         "name": "Пензенская область",
         "showlegend": true,
         "type": "scattergl",
         "x": [
          1995,
          1996,
          1997,
          1998,
          1999,
          2000,
          2001,
          2002,
          2003,
          2004,
          2005,
          2006,
          2007,
          2008,
          2009,
          2010,
          2011,
          2012,
          2013,
          2014,
          2015,
          2016,
          2017,
          2018,
          2019,
          2020
         ],
         "xaxis": "x",
         "y": [
          30.2,
          35.4,
          32.7,
          45.3,
          52.2,
          49.4,
          43.7,
          37.6,
          33.3,
          28.1,
          26.3,
          23.4,
          17.4,
          16,
          15.2,
          15.2,
          15.4,
          13.1,
          13.4,
          13.2,
          14.4,
          14.8,
          14.2,
          13.5,
          13.6,
          13
         ],
         "yaxis": "y"
        },
        {
         "hovertemplate": "region=Самарская область<br>year=%{x}<br>poverty_percent=%{y}<extra></extra>",
         "legendgroup": "Самарская область",
         "line": {
          "color": "#FF6692",
          "dash": "solid"
         },
         "marker": {
          "symbol": "circle"
         },
         "mode": "lines",
         "name": "Самарская область",
         "showlegend": true,
         "type": "scattergl",
         "x": [
          1995,
          1996,
          1997,
          1998,
          1999,
          2000,
          2001,
          2002,
          2003,
          2004,
          2005,
          2006,
          2007,
          2008,
          2009,
          2010,
          2011,
          2012,
          2013,
          2014,
          2015,
          2016,
          2017,
          2018,
          2019,
          2020
         ],
         "xaxis": "x",
         "y": [
          21.2,
          19.5,
          19.1,
          18,
          22.7,
          31.2,
          29.8,
          27.7,
          21.1,
          19.1,
          17.5,
          17.3,
          15.8,
          17.1,
          16.1,
          15.1,
          15.2,
          12.3,
          12.3,
          12.3,
          13.1,
          13.5,
          13.3,
          12.7,
          12.9,
          12.3
         ],
         "yaxis": "y"
        },
        {
         "hovertemplate": "region=Саратовская область<br>year=%{x}<br>poverty_percent=%{y}<extra></extra>",
         "legendgroup": "Саратовская область",
         "line": {
          "color": "#B6E880",
          "dash": "solid"
         },
         "marker": {
          "symbol": "circle"
         },
         "mode": "lines",
         "name": "Саратовская область",
         "showlegend": true,
         "type": "scattergl",
         "x": [
          1995,
          1996,
          1997,
          1998,
          1999,
          2000,
          2001,
          2002,
          2003,
          2004,
          2005,
          2006,
          2007,
          2008,
          2009,
          2010,
          2011,
          2012,
          2013,
          2014,
          2015,
          2016,
          2017,
          2018,
          2019,
          2020
         ],
         "xaxis": "x",
         "y": [
          35.3,
          36.9,
          27.2,
          31.9,
          38.4,
          41.2,
          38.7,
          34.4,
          29.2,
          27.4,
          24.7,
          21.5,
          22.8,
          20.7,
          19.1,
          16.4,
          17.3,
          15.9,
          15,
          15,
          16.9,
          16.8,
          16.5,
          15.3,
          15.5,
          14.8
         ],
         "yaxis": "y"
        },
        {
         "hovertemplate": "region=Ульяновская область<br>year=%{x}<br>poverty_percent=%{y}<extra></extra>",
         "legendgroup": "Ульяновская область",
         "line": {
          "color": "#FF97FF",
          "dash": "solid"
         },
         "marker": {
          "symbol": "circle"
         },
         "mode": "lines",
         "name": "Ульяновская область",
         "showlegend": true,
         "type": "scattergl",
         "x": [
          1995,
          1996,
          1997,
          1998,
          1999,
          2000,
          2001,
          2002,
          2003,
          2004,
          2005,
          2006,
          2007,
          2008,
          2009,
          2010,
          2011,
          2012,
          2013,
          2014,
          2015,
          2016,
          2017,
          2018,
          2019,
          2020
         ],
         "xaxis": "x",
         "y": [
          16.1,
          15.2,
          16,
          17.3,
          29.5,
          44.5,
          45.2,
          40.7,
          33.3,
          31.6,
          28.9,
          24.2,
          20.7,
          19.5,
          19.5,
          16.4,
          16.8,
          13.3,
          13.8,
          12.7,
          14.8,
          14.7,
          14.9,
          15.3,
          15.5,
          15
         ],
         "yaxis": "y"
        },
        {
         "hovertemplate": "region=Курганская область<br>year=%{x}<br>poverty_percent=%{y}<extra></extra>",
         "legendgroup": "Курганская область",
         "line": {
          "color": "#FECB52",
          "dash": "solid"
         },
         "marker": {
          "symbol": "circle"
         },
         "mode": "lines",
         "name": "Курганская область",
         "showlegend": true,
         "type": "scattergl",
         "x": [
          1995,
          1996,
          1997,
          1998,
          1999,
          2000,
          2001,
          2002,
          2003,
          2004,
          2005,
          2006,
          2007,
          2008,
          2009,
          2010,
          2011,
          2012,
          2013,
          2014,
          2015,
          2016,
          2017,
          2018,
          2019,
          2020
         ],
         "xaxis": "x",
         "y": [
          49.5,
          50.4,
          41.5,
          46.7,
          51.6,
          50,
          48.4,
          45.2,
          45.1,
          34.7,
          30.8,
          22.8,
          18.8,
          17.4,
          17.6,
          16.9,
          18.5,
          15.6,
          16.9,
          17.1,
          18.8,
          19.7,
          19.7,
          19.6,
          19.6,
          19.3
         ],
         "yaxis": "y"
        },
        {
         "hovertemplate": "region=Свердловская область<br>year=%{x}<br>poverty_percent=%{y}<extra></extra>",
         "legendgroup": "Свердловская область",
         "line": {
          "color": "#636efa",
          "dash": "solid"
         },
         "marker": {
          "symbol": "circle"
         },
         "mode": "lines",
         "name": "Свердловская область",
         "showlegend": true,
         "type": "scattergl",
         "x": [
          1995,
          1996,
          1997,
          1998,
          1999,
          2000,
          2001,
          2002,
          2003,
          2004,
          2005,
          2006,
          2007,
          2008,
          2009,
          2010,
          2011,
          2012,
          2013,
          2014,
          2015,
          2016,
          2017,
          2018,
          2019,
          2020
         ],
         "xaxis": "x",
         "y": [
          29.5,
          25.6,
          23.1,
          30.2,
          31.7,
          28.8,
          27.7,
          24.3,
          17.8,
          15.2,
          12.6,
          12.1,
          10.4,
          10.5,
          10.6,
          10,
          10.5,
          8.5,
          8.4,
          8.5,
          9.9,
          10.2,
          9.8,
          9.5,
          8.9,
          9
         ],
         "yaxis": "y"
        },
        {
         "hovertemplate": "region=Тюменская область <br>year=%{x}<br>poverty_percent=%{y}<extra></extra>",
         "legendgroup": "Тюменская область ",
         "line": {
          "color": "#EF553B",
          "dash": "solid"
         },
         "marker": {
          "symbol": "circle"
         },
         "mode": "lines",
         "name": "Тюменская область ",
         "showlegend": true,
         "type": "scattergl",
         "x": [
          1995,
          1996,
          1997,
          1998,
          1999,
          2000,
          2001,
          2002,
          2003,
          2004,
          2005,
          2006,
          2007,
          2008,
          2009,
          2010,
          2011,
          2012,
          2013,
          2014,
          2015,
          2016,
          2017,
          2018,
          2019,
          2020
         ],
         "xaxis": "x",
         "y": [
          19.3,
          15.8,
          13.4,
          15.8,
          19.5,
          21.3,
          15.4,
          15.8,
          12.7,
          12.1,
          11.5,
          11,
          10.6,
          10.1,
          12.1,
          11.9,
          12.3,
          10.4,
          11.8,
          12,
          14.7,
          15.5,
          15.4,
          14.3,
          14.4,
          13.6
         ],
         "yaxis": "y"
        },
        {
         "hovertemplate": "region=Ханты-Мансийский автономный округ - Югра<br>year=%{x}<br>poverty_percent=%{y}<extra></extra>",
         "legendgroup": "Ханты-Мансийский автономный округ - Югра",
         "line": {
          "color": "#00cc96",
          "dash": "solid"
         },
         "marker": {
          "symbol": "circle"
         },
         "mode": "lines",
         "name": "Ханты-Мансийский автономный округ - Югра",
         "showlegend": true,
         "type": "scattergl",
         "x": [
          2000,
          2001,
          2002,
          2003,
          2004,
          2005,
          2006,
          2007,
          2008,
          2009,
          2010,
          2011,
          2012,
          2013,
          2014,
          2015,
          2016,
          2017,
          2018,
          2019,
          2020
         ],
         "xaxis": "x",
         "y": [
          11.8,
          9.3,
          11.6,
          10.6,
          10,
          7.7,
          7.6,
          7.4,
          7.3,
          8.8,
          10.3,
          10.6,
          9.8,
          10.4,
          11.1,
          11.9,
          11.6,
          9.5,
          9,
          8.9,
          8.4
         ],
         "yaxis": "y"
        },
        {
         "hovertemplate": "region=Ямало-Ненецкий автономный округ<br>year=%{x}<br>poverty_percent=%{y}<extra></extra>",
         "legendgroup": "Ямало-Ненецкий автономный округ",
         "line": {
          "color": "#ab63fa",
          "dash": "solid"
         },
         "marker": {
          "symbol": "circle"
         },
         "mode": "lines",
         "name": "Ямало-Ненецкий автономный округ",
         "showlegend": true,
         "type": "scattergl",
         "x": [
          2000,
          2001,
          2002,
          2003,
          2004,
          2005,
          2006,
          2007,
          2008,
          2009,
          2010,
          2011,
          2012,
          2013,
          2014,
          2015,
          2016,
          2017,
          2018,
          2019,
          2020
         ],
         "xaxis": "x",
         "y": [
          11.1,
          9.3,
          7.7,
          8,
          7.1,
          8.4,
          6.8,
          6.5,
          6.2,
          7.4,
          7.3,
          7.4,
          6.4,
          6.4,
          6.7,
          7.5,
          7.1,
          6.1,
          5.8,
          5.5,
          4.8
         ],
         "yaxis": "y"
        },
        {
         "hovertemplate": "region=Челябинская область<br>year=%{x}<br>poverty_percent=%{y}<extra></extra>",
         "legendgroup": "Челябинская область",
         "line": {
          "color": "#FFA15A",
          "dash": "solid"
         },
         "marker": {
          "symbol": "circle"
         },
         "mode": "lines",
         "name": "Челябинская область",
         "showlegend": true,
         "type": "scattergl",
         "x": [
          1995,
          1996,
          1997,
          1998,
          1999,
          2000,
          2001,
          2002,
          2003,
          2004,
          2005,
          2006,
          2007,
          2008,
          2009,
          2010,
          2011,
          2012,
          2013,
          2014,
          2015,
          2016,
          2017,
          2018,
          2019,
          2020
         ],
         "xaxis": "x",
         "y": [
          27.9,
          27.2,
          22.1,
          26.9,
          32.3,
          30.7,
          34.3,
          29.7,
          24.5,
          21.1,
          14.9,
          12.3,
          11.6,
          10.6,
          10.8,
          10.2,
          10.8,
          10.1,
          11.1,
          11.7,
          13.7,
          13.8,
          13.2,
          12.8,
          12.8,
          12.6
         ],
         "yaxis": "y"
        },
        {
         "hovertemplate": "region=Республика Алтай<br>year=%{x}<br>poverty_percent=%{y}<extra></extra>",
         "legendgroup": "Республика Алтай",
         "line": {
          "color": "#19d3f3",
          "dash": "solid"
         },
         "marker": {
          "symbol": "circle"
         },
         "mode": "lines",
         "name": "Республика Алтай",
         "showlegend": true,
         "type": "scattergl",
         "x": [
          1995,
          1996,
          1997,
          1998,
          1999,
          2000,
          2001,
          2002,
          2003,
          2004,
          2005,
          2006,
          2007,
          2008,
          2009,
          2010,
          2011,
          2012,
          2013,
          2014,
          2015,
          2016,
          2017,
          2018,
          2019,
          2020
         ],
         "xaxis": "x",
         "y": [
          26.2,
          45.7,
          39.2,
          47.8,
          62.9,
          59.8,
          54.3,
          39.3,
          38.2,
          36.5,
          35.9,
          36,
          32.9,
          25.7,
          31.1,
          17.7,
          18.6,
          18.5,
          21,
          20.9,
          24.8,
          25.6,
          25.4,
          24,
          24.3,
          23.8
         ],
         "yaxis": "y"
        },
        {
         "hovertemplate": "region=Республика Тыва<br>year=%{x}<br>poverty_percent=%{y}<extra></extra>",
         "legendgroup": "Республика Тыва",
         "line": {
          "color": "#FF6692",
          "dash": "solid"
         },
         "marker": {
          "symbol": "circle"
         },
         "mode": "lines",
         "name": "Республика Тыва",
         "showlegend": true,
         "type": "scattergl",
         "x": [
          1995,
          1996,
          1997,
          1998,
          1999,
          2000,
          2001,
          2002,
          2003,
          2004,
          2005,
          2006,
          2007,
          2008,
          2009,
          2010,
          2011,
          2012,
          2013,
          2014,
          2015,
          2016,
          2017,
          2018,
          2019,
          2020
         ],
         "xaxis": "x",
         "y": [
          72.7,
          71.1,
          59.4,
          68,
          75.6,
          77.9,
          65.2,
          48.2,
          48,
          46.9,
          44.4,
          40.4,
          36,
          30.4,
          26.9,
          29.6,
          30.6,
          27.9,
          33,
          35.2,
          36.9,
          37.8,
          35.8,
          34.4,
          34.1,
          31.7
         ],
         "yaxis": "y"
        },
        {
         "hovertemplate": "region=Республика Хакасия<br>year=%{x}<br>poverty_percent=%{y}<extra></extra>",
         "legendgroup": "Республика Хакасия",
         "line": {
          "color": "#B6E880",
          "dash": "solid"
         },
         "marker": {
          "symbol": "circle"
         },
         "mode": "lines",
         "name": "Республика Хакасия",
         "showlegend": true,
         "type": "scattergl",
         "x": [
          1995,
          1996,
          1997,
          1998,
          1999,
          2000,
          2001,
          2002,
          2003,
          2004,
          2005,
          2006,
          2007,
          2008,
          2009,
          2010,
          2011,
          2012,
          2013,
          2014,
          2015,
          2016,
          2017,
          2018,
          2019,
          2020
         ],
         "xaxis": "x",
         "y": [
          24.7,
          25,
          24.5,
          36.6,
          40.5,
          40.2,
          37.5,
          31.8,
          28.4,
          26.7,
          26.9,
          24,
          20.2,
          18.5,
          20.8,
          18.4,
          18.6,
          16.3,
          17.8,
          18.2,
          19.2,
          19.1,
          18.8,
          18.5,
          19,
          18.5
         ],
         "yaxis": "y"
        },
        {
         "hovertemplate": "region=Алтайский край<br>year=%{x}<br>poverty_percent=%{y}<extra></extra>",
         "legendgroup": "Алтайский край",
         "line": {
          "color": "#FF97FF",
          "dash": "solid"
         },
         "marker": {
          "symbol": "circle"
         },
         "mode": "lines",
         "name": "Алтайский край",
         "showlegend": true,
         "type": "scattergl",
         "x": [
          1995,
          1996,
          1997,
          1998,
          1999,
          2000,
          2001,
          2002,
          2003,
          2004,
          2005,
          2006,
          2007,
          2008,
          2009,
          2010,
          2011,
          2012,
          2013,
          2014,
          2015,
          2016,
          2017,
          2018,
          2019,
          2020
         ],
         "xaxis": "x",
         "y": [
          33.7,
          46.8,
          45.7,
          52.9,
          53.8,
          53.9,
          47.3,
          38.9,
          33.9,
          30.9,
          24.9,
          19.3,
          20.1,
          19,
          24.4,
          23.9,
          22.6,
          20.6,
          17.6,
          17.1,
          18,
          17.8,
          17.5,
          17.4,
          17.6,
          17.5
         ],
         "yaxis": "y"
        },
        {
         "hovertemplate": "region=Красноярский край<br>year=%{x}<br>poverty_percent=%{y}<extra></extra>",
         "legendgroup": "Красноярский край",
         "line": {
          "color": "#FECB52",
          "dash": "solid"
         },
         "marker": {
          "symbol": "circle"
         },
         "mode": "lines",
         "name": "Красноярский край",
         "showlegend": true,
         "type": "scattergl",
         "x": [
          1995,
          1996,
          1997,
          1998,
          1999,
          2000,
          2001,
          2002,
          2003,
          2004,
          2005,
          2006,
          2007,
          2008,
          2009,
          2010,
          2011,
          2012,
          2013,
          2014,
          2015,
          2016,
          2017,
          2018,
          2019,
          2020
         ],
         "xaxis": "x",
         "y": [
          24.2,
          19.2,
          17.5,
          20.2,
          21.1,
          24.4,
          24.6,
          25.6,
          24.7,
          22.8,
          21.4,
          19.2,
          15.8,
          16.2,
          17.7,
          17.9,
          18.1,
          15.6,
          15.6,
          17,
          18.9,
          18.4,
          17.6,
          17.1,
          17.3,
          17
         ],
         "yaxis": "y"
        },
        {
         "hovertemplate": "region=Иркутская область<br>year=%{x}<br>poverty_percent=%{y}<extra></extra>",
         "legendgroup": "Иркутская область",
         "line": {
          "color": "#636efa",
          "dash": "solid"
         },
         "marker": {
          "symbol": "circle"
         },
         "mode": "lines",
         "name": "Иркутская область",
         "showlegend": true,
         "type": "scattergl",
         "x": [
          1995,
          1996,
          1997,
          1998,
          1999,
          2000,
          2001,
          2002,
          2003,
          2004,
          2005,
          2006,
          2007,
          2008,
          2009,
          2010,
          2011,
          2012,
          2013,
          2014,
          2015,
          2016,
          2017,
          2018,
          2019,
          2020
         ],
         "xaxis": "x",
         "y": [
          31.6,
          30,
          26.5,
          26.3,
          30.5,
          35.5,
          36.6,
          31.9,
          31.1,
          29,
          21.3,
          18.9,
          18.4,
          16.8,
          18.5,
          18.1,
          19.2,
          16.8,
          17,
          18.8,
          20.7,
          20,
          18,
          17.6,
          17.9,
          17.6
         ],
         "yaxis": "y"
        },
        {
         "hovertemplate": "region=Кемеровская область - Кузбасс<br>year=%{x}<br>poverty_percent=%{y}<extra></extra>",
         "legendgroup": "Кемеровская область - Кузбасс",
         "line": {
          "color": "#EF553B",
          "dash": "solid"
         },
         "marker": {
          "symbol": "circle"
         },
         "mode": "lines",
         "name": "Кемеровская область - Кузбасс",
         "showlegend": true,
         "type": "scattergl",
         "x": [
          1995,
          1996,
          1997,
          1998,
          1999,
          2000,
          2001,
          2002,
          2003,
          2004,
          2005,
          2006,
          2007,
          2008,
          2009,
          2010,
          2011,
          2012,
          2013,
          2014,
          2015,
          2016,
          2017,
          2018,
          2019,
          2020
         ],
         "xaxis": "x",
         "y": [
          16.1,
          19.7,
          17.6,
          23,
          29.8,
          28.5,
          25.4,
          23,
          20.1,
          16.2,
          12.8,
          11.5,
          10.7,
          9.7,
          11.7,
          11,
          11.6,
          10.6,
          13.9,
          14.1,
          15.7,
          15.8,
          14.9,
          13.9,
          13.6,
          13.2
         ],
         "yaxis": "y"
        },
        {
         "hovertemplate": "region=Новосибирская область<br>year=%{x}<br>poverty_percent=%{y}<extra></extra>",
         "legendgroup": "Новосибирская область",
         "line": {
          "color": "#00cc96",
          "dash": "solid"
         },
         "marker": {
          "symbol": "circle"
         },
         "mode": "lines",
         "name": "Новосибирская область",
         "showlegend": true,
         "type": "scattergl",
         "x": [
          1995,
          1996,
          1997,
          1998,
          1999,
          2000,
          2001,
          2002,
          2003,
          2004,
          2005,
          2006,
          2007,
          2008,
          2009,
          2010,
          2011,
          2012,
          2013,
          2014,
          2015,
          2016,
          2017,
          2018,
          2019,
          2020
         ],
         "xaxis": "x",
         "y": [
          39.8,
          29.3,
          30.1,
          44.1,
          50.8,
          52,
          46.5,
          39.4,
          32.3,
          25.7,
          21.9,
          20.7,
          18.7,
          17.2,
          16.2,
          16.3,
          16.5,
          14.1,
          14.4,
          14.9,
          17.3,
          16.1,
          15.1,
          14.1,
          13.9,
          13.8
         ],
         "yaxis": "y"
        },
        {
         "hovertemplate": "region=Омская область<br>year=%{x}<br>poverty_percent=%{y}<extra></extra>",
         "legendgroup": "Омская область",
         "line": {
          "color": "#ab63fa",
          "dash": "solid"
         },
         "marker": {
          "symbol": "circle"
         },
         "mode": "lines",
         "name": "Омская область",
         "showlegend": true,
         "type": "scattergl",
         "x": [
          1995,
          1996,
          1997,
          1998,
          1999,
          2000,
          2001,
          2002,
          2003,
          2004,
          2005,
          2006,
          2007,
          2008,
          2009,
          2010,
          2011,
          2012,
          2013,
          2014,
          2015,
          2016,
          2017,
          2018,
          2019,
          2020
         ],
         "xaxis": "x",
         "y": [
          29.7,
          25.2,
          23.4,
          25,
          34.6,
          44.4,
          30.2,
          24.3,
          21,
          17.7,
          16.1,
          15.6,
          14,
          13.7,
          15.1,
          14.1,
          12.7,
          11,
          12.5,
          12.4,
          14.2,
          14.7,
          14.2,
          13.6,
          13.9,
          13.6
         ],
         "yaxis": "y"
        },
        {
         "hovertemplate": "region=Томская область<br>year=%{x}<br>poverty_percent=%{y}<extra></extra>",
         "legendgroup": "Томская область",
         "line": {
          "color": "#FFA15A",
          "dash": "solid"
         },
         "marker": {
          "symbol": "circle"
         },
         "mode": "lines",
         "name": "Томская область",
         "showlegend": true,
         "type": "scattergl",
         "x": [
          1995,
          1996,
          1997,
          1998,
          1999,
          2000,
          2001,
          2002,
          2003,
          2004,
          2005,
          2006,
          2007,
          2008,
          2009,
          2010,
          2011,
          2012,
          2013,
          2014,
          2015,
          2016,
          2017,
          2018,
          2019,
          2020
         ],
         "xaxis": "x",
         "y": [
          30.6,
          22.1,
          19.8,
          23.7,
          26.5,
          25.6,
          26.2,
          22.5,
          20.2,
          18.6,
          16.4,
          14.4,
          13.2,
          14.4,
          17.6,
          17.4,
          17.8,
          16.2,
          13,
          13,
          14.9,
          15,
          14.8,
          14.7,
          14.8,
          14.4
         ],
         "yaxis": "y"
        },
        {
         "hovertemplate": "region=Республика Бурятия<br>year=%{x}<br>poverty_percent=%{y}<extra></extra>",
         "legendgroup": "Республика Бурятия",
         "line": {
          "color": "#19d3f3",
          "dash": "solid"
         },
         "marker": {
          "symbol": "circle"
         },
         "mode": "lines",
         "name": "Республика Бурятия",
         "showlegend": true,
         "type": "scattergl",
         "x": [
          1995,
          1996,
          1997,
          1998,
          1999,
          2000,
          2001,
          2002,
          2003,
          2004,
          2005,
          2006,
          2007,
          2008,
          2009,
          2010,
          2011,
          2012,
          2013,
          2014,
          2015,
          2016,
          2017,
          2018,
          2019,
          2020
         ],
         "xaxis": "x",
         "y": [
          54.3,
          48.4,
          33,
          43.2,
          47.5,
          53.5,
          48.6,
          37.2,
          36.7,
          38.3,
          32.6,
          29.9,
          25.2,
          20.7,
          19.1,
          19.2,
          20.1,
          17.7,
          17.5,
          18.2,
          18.9,
          19.3,
          19,
          19.1,
          20.1,
          19.9
         ],
         "yaxis": "y"
        },
        {
         "hovertemplate": "region=Забайкальский край<br>year=%{x}<br>poverty_percent=%{y}<extra></extra>",
         "legendgroup": "Забайкальский край",
         "line": {
          "color": "#FF6692",
          "dash": "solid"
         },
         "marker": {
          "symbol": "circle"
         },
         "mode": "lines",
         "name": "Забайкальский край",
         "showlegend": true,
         "type": "scattergl",
         "x": [
          1995,
          1996,
          1997,
          1998,
          1999,
          2000,
          2001,
          2002,
          2003,
          2004,
          2005,
          2006,
          2007,
          2008,
          2009,
          2010,
          2011,
          2012,
          2013,
          2014,
          2015,
          2016,
          2017,
          2018,
          2019,
          2020
         ],
         "xaxis": "x",
         "y": [
          64.2,
          63.4,
          58.6,
          69.7,
          77.5,
          67,
          55.3,
          44.6,
          32.3,
          28.7,
          26.1,
          23.6,
          23.6,
          19.9,
          19.7,
          19,
          18.9,
          17.6,
          16.9,
          18.8,
          21.3,
          22.1,
          22,
          21.4,
          21.5,
          20.9
         ],
         "yaxis": "y"
        },
        {
         "hovertemplate": "region=Республика Саха<br>year=%{x}<br>poverty_percent=%{y}<extra></extra>",
         "legendgroup": "Республика Саха",
         "line": {
          "color": "#B6E880",
          "dash": "solid"
         },
         "marker": {
          "symbol": "circle"
         },
         "mode": "lines",
         "name": "Республика Саха",
         "showlegend": true,
         "type": "scattergl",
         "x": [
          1995,
          1996,
          1997,
          1998,
          1999,
          2000,
          2001,
          2002,
          2003,
          2004,
          2005,
          2006,
          2007,
          2008,
          2009,
          2010,
          2011,
          2012,
          2013,
          2014,
          2015,
          2016,
          2017,
          2018,
          2019,
          2020
         ],
         "xaxis": "x",
         "y": [
          29.2,
          30,
          27.2,
          29.5,
          30.8,
          28.3,
          26.4,
          22.3,
          20.4,
          20.3,
          20,
          18.9,
          20.3,
          19,
          19.6,
          19,
          18.6,
          16.7,
          16.8,
          18,
          19.4,
          19.8,
          19.6,
          18.6,
          17.8,
          17.3
         ],
         "yaxis": "y"
        },
        {
         "hovertemplate": "region=Камчатский край<br>year=%{x}<br>poverty_percent=%{y}<extra></extra>",
         "legendgroup": "Камчатский край",
         "line": {
          "color": "#FF97FF",
          "dash": "solid"
         },
         "marker": {
          "symbol": "circle"
         },
         "mode": "lines",
         "name": "Камчатский край",
         "showlegend": true,
         "type": "scattergl",
         "x": [
          1995,
          1996,
          1997,
          1998,
          1999,
          2002,
          2003,
          2004,
          2005,
          2006,
          2007,
          2008,
          2009,
          2010,
          2011,
          2012,
          2013,
          2014,
          2015,
          2016,
          2017,
          2018,
          2019,
          2020
         ],
         "xaxis": "x",
         "y": [
          22.7,
          27.8,
          25.6,
          30.9,
          32.1,
          34.3,
          26.6,
          23.1,
          25.2,
          23.6,
          20.5,
          22.6,
          21.2,
          19.5,
          19.2,
          17.8,
          16.7,
          16.7,
          17.1,
          17.7,
          16.8,
          15.8,
          14.9,
          14.6
         ],
         "yaxis": "y"
        },
        {
         "hovertemplate": "region=Приморский край<br>year=%{x}<br>poverty_percent=%{y}<extra></extra>",
         "legendgroup": "Приморский край",
         "line": {
          "color": "#FECB52",
          "dash": "solid"
         },
         "marker": {
          "symbol": "circle"
         },
         "mode": "lines",
         "name": "Приморский край",
         "showlegend": true,
         "type": "scattergl",
         "x": [
          1995,
          1996,
          1997,
          1998,
          1999,
          2000,
          2001,
          2002,
          2003,
          2004,
          2005,
          2006,
          2007,
          2008,
          2009,
          2010,
          2011,
          2012,
          2013,
          2014,
          2015,
          2016,
          2017,
          2018,
          2019,
          2020
         ],
         "xaxis": "x",
         "y": [
          31.8,
          30.4,
          28.6,
          31.5,
          38.2,
          55.9,
          52.1,
          46.9,
          37.5,
          30.4,
          27.4,
          22.8,
          21.4,
          21.4,
          18.8,
          16.3,
          15.7,
          14.2,
          16.3,
          15.2,
          16.2,
          16.3,
          14.9,
          13.9,
          13.5,
          13
         ],
         "yaxis": "y"
        },
        {
         "hovertemplate": "region=Хабаровский край<br>year=%{x}<br>poverty_percent=%{y}<extra></extra>",
         "legendgroup": "Хабаровский край",
         "line": {
          "color": "#636efa",
          "dash": "solid"
         },
         "marker": {
          "symbol": "circle"
         },
         "mode": "lines",
         "name": "Хабаровский край",
         "showlegend": true,
         "type": "scattergl",
         "x": [
          1995,
          1996,
          1997,
          1998,
          1999,
          2000,
          2001,
          2002,
          2003,
          2004,
          2005,
          2006,
          2007,
          2008,
          2009,
          2010,
          2011,
          2012,
          2013,
          2014,
          2015,
          2016,
          2017,
          2018,
          2019,
          2020
         ],
         "xaxis": "x",
         "y": [
          28.9,
          24.3,
          21.3,
          21.7,
          22.8,
          35.5,
          32.1,
          26.5,
          24.4,
          23,
          20.7,
          17.5,
          15,
          18.8,
          17.7,
          15.9,
          15.8,
          14.3,
          12.5,
          13.4,
          14.1,
          13,
          12.5,
          12.2,
          12.2,
          12
         ],
         "yaxis": "y"
        },
        {
         "hovertemplate": "region=Амурская область<br>year=%{x}<br>poverty_percent=%{y}<extra></extra>",
         "legendgroup": "Амурская область",
         "line": {
          "color": "#EF553B",
          "dash": "solid"
         },
         "marker": {
          "symbol": "circle"
         },
         "mode": "lines",
         "name": "Амурская область",
         "showlegend": true,
         "type": "scattergl",
         "x": [
          1995,
          1996,
          1997,
          1998,
          1999,
          2000,
          2001,
          2002,
          2003,
          2004,
          2005,
          2006,
          2007,
          2008,
          2009,
          2010,
          2011,
          2012,
          2013,
          2014,
          2015,
          2016,
          2017,
          2018,
          2019,
          2020
         ],
         "xaxis": "x",
         "y": [
          36.1,
          28.2,
          26.3,
          31.2,
          38,
          47.7,
          45.3,
          44.6,
          35.6,
          33.8,
          30.1,
          29,
          24.3,
          21.3,
          22.9,
          23.7,
          20.4,
          16,
          16.2,
          14.8,
          15.2,
          17,
          16.7,
          15.6,
          15.7,
          15.2
         ],
         "yaxis": "y"
        },
        {
         "hovertemplate": "region=Магаданская область<br>year=%{x}<br>poverty_percent=%{y}<extra></extra>",
         "legendgroup": "Магаданская область",
         "line": {
          "color": "#00cc96",
          "dash": "solid"
         },
         "marker": {
          "symbol": "circle"
         },
         "mode": "lines",
         "name": "Магаданская область",
         "showlegend": true,
         "type": "scattergl",
         "x": [
          1995,
          1996,
          1997,
          1998,
          1999,
          2000,
          2001,
          2002,
          2003,
          2004,
          2005,
          2006,
          2007,
          2008,
          2009,
          2010,
          2011,
          2012,
          2013,
          2014,
          2015,
          2016,
          2017,
          2018,
          2019,
          2020
         ],
         "xaxis": "x",
         "y": [
          23.2,
          25.4,
          23.4,
          29.2,
          39.4,
          30.9,
          25.5,
          20.8,
          18.4,
          18.1,
          18.6,
          17.5,
          16.2,
          16.1,
          15.3,
          13.6,
          13.9,
          11.3,
          12.2,
          12.3,
          12.9,
          13,
          11.1,
          9.5,
          9.3,
          8.7
         ],
         "yaxis": "y"
        },
        {
         "hovertemplate": "region=Сахалинская область<br>year=%{x}<br>poverty_percent=%{y}<extra></extra>",
         "legendgroup": "Сахалинская область",
         "line": {
          "color": "#ab63fa",
          "dash": "solid"
         },
         "marker": {
          "symbol": "circle"
         },
         "mode": "lines",
         "name": "Сахалинская область",
         "showlegend": true,
         "type": "scattergl",
         "x": [
          1995,
          1996,
          1997,
          1998,
          1999,
          2000,
          2001,
          2002,
          2003,
          2004,
          2005,
          2006,
          2007,
          2008,
          2009,
          2010,
          2011,
          2012,
          2013,
          2014,
          2015,
          2016,
          2017,
          2018,
          2019,
          2020
         ],
         "xaxis": "x",
         "y": [
          27.4,
          32.2,
          31.6,
          35.1,
          34.1,
          39.6,
          37.1,
          31,
          24.9,
          21.2,
          18.2,
          15.5,
          12.6,
          11.4,
          11.5,
          11,
          11.9,
          11.8,
          9.9,
          9.7,
          10,
          9.9,
          9.2,
          8.5,
          8.2,
          7.7
         ],
         "yaxis": "y"
        },
        {
         "hovertemplate": "region=Еврейская автономная область<br>year=%{x}<br>poverty_percent=%{y}<extra></extra>",
         "legendgroup": "Еврейская автономная область",
         "line": {
          "color": "#FFA15A",
          "dash": "solid"
         },
         "marker": {
          "symbol": "circle"
         },
         "mode": "lines",
         "name": "Еврейская автономная область",
         "showlegend": true,
         "type": "scattergl",
         "x": [
          2000,
          2001,
          2002,
          2003,
          2004,
          2005,
          2006,
          2007,
          2008,
          2009,
          2010,
          2011,
          2012,
          2013,
          2014,
          2015,
          2016,
          2017,
          2018,
          2019,
          2020
         ],
         "xaxis": "x",
         "y": [
          57.3,
          51.1,
          38.4,
          32.8,
          29.8,
          27.6,
          25.2,
          25.4,
          22.3,
          21,
          19.5,
          20.1,
          18.8,
          20.9,
          21.4,
          25.1,
          25.5,
          24.3,
          23.7,
          23.9,
          23.6
         ],
         "yaxis": "y"
        },
        {
         "hovertemplate": "region=Чукотский автономный округ<br>year=%{x}<br>poverty_percent=%{y}<extra></extra>",
         "legendgroup": "Чукотский автономный округ",
         "line": {
          "color": "#19d3f3",
          "dash": "solid"
         },
         "marker": {
          "symbol": "circle"
         },
         "mode": "lines",
         "name": "Чукотский автономный округ",
         "showlegend": true,
         "type": "scattergl",
         "x": [
          2000,
          2001,
          2002,
          2003,
          2004,
          2005,
          2006,
          2007,
          2008,
          2009,
          2010,
          2011,
          2012,
          2013,
          2014,
          2015,
          2016,
          2017,
          2018,
          2019,
          2020
         ],
         "xaxis": "x",
         "y": [
          50.1,
          32.8,
          28.6,
          19.2,
          20.1,
          15.1,
          14.2,
          13.3,
          12,
          11.9,
          10.3,
          9,
          7.7,
          7.5,
          7.6,
          8.6,
          8.6,
          8.5,
          8.8,
          8.5,
          8
         ],
         "yaxis": "y"
        }
       ],
       "layout": {
        "height": 600,
        "legend": {
         "title": {
          "text": "region"
         },
         "tracegroupgap": 0
        },
        "margin": {
         "t": 60
        },
        "template": {
         "data": {
          "bar": [
           {
            "error_x": {
             "color": "#2a3f5f"
            },
            "error_y": {
             "color": "#2a3f5f"
            },
            "marker": {
             "line": {
              "color": "#E5ECF6",
              "width": 0.5
             },
             "pattern": {
              "fillmode": "overlay",
              "size": 10,
              "solidity": 0.2
             }
            },
            "type": "bar"
           }
          ],
          "barpolar": [
           {
            "marker": {
             "line": {
              "color": "#E5ECF6",
              "width": 0.5
             },
             "pattern": {
              "fillmode": "overlay",
              "size": 10,
              "solidity": 0.2
             }
            },
            "type": "barpolar"
           }
          ],
          "carpet": [
           {
            "aaxis": {
             "endlinecolor": "#2a3f5f",
             "gridcolor": "white",
             "linecolor": "white",
             "minorgridcolor": "white",
             "startlinecolor": "#2a3f5f"
            },
            "baxis": {
             "endlinecolor": "#2a3f5f",
             "gridcolor": "white",
             "linecolor": "white",
             "minorgridcolor": "white",
             "startlinecolor": "#2a3f5f"
            },
            "type": "carpet"
           }
          ],
          "choropleth": [
           {
            "colorbar": {
             "outlinewidth": 0,
             "ticks": ""
            },
            "type": "choropleth"
           }
          ],
          "contour": [
           {
            "colorbar": {
             "outlinewidth": 0,
             "ticks": ""
            },
            "colorscale": [
             [
              0,
              "#0d0887"
             ],
             [
              0.1111111111111111,
              "#46039f"
             ],
             [
              0.2222222222222222,
              "#7201a8"
             ],
             [
              0.3333333333333333,
              "#9c179e"
             ],
             [
              0.4444444444444444,
              "#bd3786"
             ],
             [
              0.5555555555555556,
              "#d8576b"
             ],
             [
              0.6666666666666666,
              "#ed7953"
             ],
             [
              0.7777777777777778,
              "#fb9f3a"
             ],
             [
              0.8888888888888888,
              "#fdca26"
             ],
             [
              1,
              "#f0f921"
             ]
            ],
            "type": "contour"
           }
          ],
          "contourcarpet": [
           {
            "colorbar": {
             "outlinewidth": 0,
             "ticks": ""
            },
            "type": "contourcarpet"
           }
          ],
          "heatmap": [
           {
            "colorbar": {
             "outlinewidth": 0,
             "ticks": ""
            },
            "colorscale": [
             [
              0,
              "#0d0887"
             ],
             [
              0.1111111111111111,
              "#46039f"
             ],
             [
              0.2222222222222222,
              "#7201a8"
             ],
             [
              0.3333333333333333,
              "#9c179e"
             ],
             [
              0.4444444444444444,
              "#bd3786"
             ],
             [
              0.5555555555555556,
              "#d8576b"
             ],
             [
              0.6666666666666666,
              "#ed7953"
             ],
             [
              0.7777777777777778,
              "#fb9f3a"
             ],
             [
              0.8888888888888888,
              "#fdca26"
             ],
             [
              1,
              "#f0f921"
             ]
            ],
            "type": "heatmap"
           }
          ],
          "heatmapgl": [
           {
            "colorbar": {
             "outlinewidth": 0,
             "ticks": ""
            },
            "colorscale": [
             [
              0,
              "#0d0887"
             ],
             [
              0.1111111111111111,
              "#46039f"
             ],
             [
              0.2222222222222222,
              "#7201a8"
             ],
             [
              0.3333333333333333,
              "#9c179e"
             ],
             [
              0.4444444444444444,
              "#bd3786"
             ],
             [
              0.5555555555555556,
              "#d8576b"
             ],
             [
              0.6666666666666666,
              "#ed7953"
             ],
             [
              0.7777777777777778,
              "#fb9f3a"
             ],
             [
              0.8888888888888888,
              "#fdca26"
             ],
             [
              1,
              "#f0f921"
             ]
            ],
            "type": "heatmapgl"
           }
          ],
          "histogram": [
           {
            "marker": {
             "pattern": {
              "fillmode": "overlay",
              "size": 10,
              "solidity": 0.2
             }
            },
            "type": "histogram"
           }
          ],
          "histogram2d": [
           {
            "colorbar": {
             "outlinewidth": 0,
             "ticks": ""
            },
            "colorscale": [
             [
              0,
              "#0d0887"
             ],
             [
              0.1111111111111111,
              "#46039f"
             ],
             [
              0.2222222222222222,
              "#7201a8"
             ],
             [
              0.3333333333333333,
              "#9c179e"
             ],
             [
              0.4444444444444444,
              "#bd3786"
             ],
             [
              0.5555555555555556,
              "#d8576b"
             ],
             [
              0.6666666666666666,
              "#ed7953"
             ],
             [
              0.7777777777777778,
              "#fb9f3a"
             ],
             [
              0.8888888888888888,
              "#fdca26"
             ],
             [
              1,
              "#f0f921"
             ]
            ],
            "type": "histogram2d"
           }
          ],
          "histogram2dcontour": [
           {
            "colorbar": {
             "outlinewidth": 0,
             "ticks": ""
            },
            "colorscale": [
             [
              0,
              "#0d0887"
             ],
             [
              0.1111111111111111,
              "#46039f"
             ],
             [
              0.2222222222222222,
              "#7201a8"
             ],
             [
              0.3333333333333333,
              "#9c179e"
             ],
             [
              0.4444444444444444,
              "#bd3786"
             ],
             [
              0.5555555555555556,
              "#d8576b"
             ],
             [
              0.6666666666666666,
              "#ed7953"
             ],
             [
              0.7777777777777778,
              "#fb9f3a"
             ],
             [
              0.8888888888888888,
              "#fdca26"
             ],
             [
              1,
              "#f0f921"
             ]
            ],
            "type": "histogram2dcontour"
           }
          ],
          "mesh3d": [
           {
            "colorbar": {
             "outlinewidth": 0,
             "ticks": ""
            },
            "type": "mesh3d"
           }
          ],
          "parcoords": [
           {
            "line": {
             "colorbar": {
              "outlinewidth": 0,
              "ticks": ""
             }
            },
            "type": "parcoords"
           }
          ],
          "pie": [
           {
            "automargin": true,
            "type": "pie"
           }
          ],
          "scatter": [
           {
            "fillpattern": {
             "fillmode": "overlay",
             "size": 10,
             "solidity": 0.2
            },
            "type": "scatter"
           }
          ],
          "scatter3d": [
           {
            "line": {
             "colorbar": {
              "outlinewidth": 0,
              "ticks": ""
             }
            },
            "marker": {
             "colorbar": {
              "outlinewidth": 0,
              "ticks": ""
             }
            },
            "type": "scatter3d"
           }
          ],
          "scattercarpet": [
           {
            "marker": {
             "colorbar": {
              "outlinewidth": 0,
              "ticks": ""
             }
            },
            "type": "scattercarpet"
           }
          ],
          "scattergeo": [
           {
            "marker": {
             "colorbar": {
              "outlinewidth": 0,
              "ticks": ""
             }
            },
            "type": "scattergeo"
           }
          ],
          "scattergl": [
           {
            "marker": {
             "colorbar": {
              "outlinewidth": 0,
              "ticks": ""
             }
            },
            "type": "scattergl"
           }
          ],
          "scattermapbox": [
           {
            "marker": {
             "colorbar": {
              "outlinewidth": 0,
              "ticks": ""
             }
            },
            "type": "scattermapbox"
           }
          ],
          "scatterpolar": [
           {
            "marker": {
             "colorbar": {
              "outlinewidth": 0,
              "ticks": ""
             }
            },
            "type": "scatterpolar"
           }
          ],
          "scatterpolargl": [
           {
            "marker": {
             "colorbar": {
              "outlinewidth": 0,
              "ticks": ""
             }
            },
            "type": "scatterpolargl"
           }
          ],
          "scatterternary": [
           {
            "marker": {
             "colorbar": {
              "outlinewidth": 0,
              "ticks": ""
             }
            },
            "type": "scatterternary"
           }
          ],
          "surface": [
           {
            "colorbar": {
             "outlinewidth": 0,
             "ticks": ""
            },
            "colorscale": [
             [
              0,
              "#0d0887"
             ],
             [
              0.1111111111111111,
              "#46039f"
             ],
             [
              0.2222222222222222,
              "#7201a8"
             ],
             [
              0.3333333333333333,
              "#9c179e"
             ],
             [
              0.4444444444444444,
              "#bd3786"
             ],
             [
              0.5555555555555556,
              "#d8576b"
             ],
             [
              0.6666666666666666,
              "#ed7953"
             ],
             [
              0.7777777777777778,
              "#fb9f3a"
             ],
             [
              0.8888888888888888,
              "#fdca26"
             ],
             [
              1,
              "#f0f921"
             ]
            ],
            "type": "surface"
           }
          ],
          "table": [
           {
            "cells": {
             "fill": {
              "color": "#EBF0F8"
             },
             "line": {
              "color": "white"
             }
            },
            "header": {
             "fill": {
              "color": "#C8D4E3"
             },
             "line": {
              "color": "white"
             }
            },
            "type": "table"
           }
          ]
         },
         "layout": {
          "annotationdefaults": {
           "arrowcolor": "#2a3f5f",
           "arrowhead": 0,
           "arrowwidth": 1
          },
          "autotypenumbers": "strict",
          "coloraxis": {
           "colorbar": {
            "outlinewidth": 0,
            "ticks": ""
           }
          },
          "colorscale": {
           "diverging": [
            [
             0,
             "#8e0152"
            ],
            [
             0.1,
             "#c51b7d"
            ],
            [
             0.2,
             "#de77ae"
            ],
            [
             0.3,
             "#f1b6da"
            ],
            [
             0.4,
             "#fde0ef"
            ],
            [
             0.5,
             "#f7f7f7"
            ],
            [
             0.6,
             "#e6f5d0"
            ],
            [
             0.7,
             "#b8e186"
            ],
            [
             0.8,
             "#7fbc41"
            ],
            [
             0.9,
             "#4d9221"
            ],
            [
             1,
             "#276419"
            ]
           ],
           "sequential": [
            [
             0,
             "#0d0887"
            ],
            [
             0.1111111111111111,
             "#46039f"
            ],
            [
             0.2222222222222222,
             "#7201a8"
            ],
            [
             0.3333333333333333,
             "#9c179e"
            ],
            [
             0.4444444444444444,
             "#bd3786"
            ],
            [
             0.5555555555555556,
             "#d8576b"
            ],
            [
             0.6666666666666666,
             "#ed7953"
            ],
            [
             0.7777777777777778,
             "#fb9f3a"
            ],
            [
             0.8888888888888888,
             "#fdca26"
            ],
            [
             1,
             "#f0f921"
            ]
           ],
           "sequentialminus": [
            [
             0,
             "#0d0887"
            ],
            [
             0.1111111111111111,
             "#46039f"
            ],
            [
             0.2222222222222222,
             "#7201a8"
            ],
            [
             0.3333333333333333,
             "#9c179e"
            ],
            [
             0.4444444444444444,
             "#bd3786"
            ],
            [
             0.5555555555555556,
             "#d8576b"
            ],
            [
             0.6666666666666666,
             "#ed7953"
            ],
            [
             0.7777777777777778,
             "#fb9f3a"
            ],
            [
             0.8888888888888888,
             "#fdca26"
            ],
            [
             1,
             "#f0f921"
            ]
           ]
          },
          "colorway": [
           "#636efa",
           "#EF553B",
           "#00cc96",
           "#ab63fa",
           "#FFA15A",
           "#19d3f3",
           "#FF6692",
           "#B6E880",
           "#FF97FF",
           "#FECB52"
          ],
          "font": {
           "color": "#2a3f5f"
          },
          "geo": {
           "bgcolor": "white",
           "lakecolor": "white",
           "landcolor": "#E5ECF6",
           "showlakes": true,
           "showland": true,
           "subunitcolor": "white"
          },
          "hoverlabel": {
           "align": "left"
          },
          "hovermode": "closest",
          "mapbox": {
           "style": "light"
          },
          "paper_bgcolor": "white",
          "plot_bgcolor": "#E5ECF6",
          "polar": {
           "angularaxis": {
            "gridcolor": "white",
            "linecolor": "white",
            "ticks": ""
           },
           "bgcolor": "#E5ECF6",
           "radialaxis": {
            "gridcolor": "white",
            "linecolor": "white",
            "ticks": ""
           }
          },
          "scene": {
           "xaxis": {
            "backgroundcolor": "#E5ECF6",
            "gridcolor": "white",
            "gridwidth": 2,
            "linecolor": "white",
            "showbackground": true,
            "ticks": "",
            "zerolinecolor": "white"
           },
           "yaxis": {
            "backgroundcolor": "#E5ECF6",
            "gridcolor": "white",
            "gridwidth": 2,
            "linecolor": "white",
            "showbackground": true,
            "ticks": "",
            "zerolinecolor": "white"
           },
           "zaxis": {
            "backgroundcolor": "#E5ECF6",
            "gridcolor": "white",
            "gridwidth": 2,
            "linecolor": "white",
            "showbackground": true,
            "ticks": "",
            "zerolinecolor": "white"
           }
          },
          "shapedefaults": {
           "line": {
            "color": "#2a3f5f"
           }
          },
          "ternary": {
           "aaxis": {
            "gridcolor": "white",
            "linecolor": "white",
            "ticks": ""
           },
           "baxis": {
            "gridcolor": "white",
            "linecolor": "white",
            "ticks": ""
           },
           "bgcolor": "#E5ECF6",
           "caxis": {
            "gridcolor": "white",
            "linecolor": "white",
            "ticks": ""
           }
          },
          "title": {
           "x": 0.05
          },
          "xaxis": {
           "automargin": true,
           "gridcolor": "white",
           "linecolor": "white",
           "ticks": "",
           "title": {
            "standoff": 15
           },
           "zerolinecolor": "white",
           "zerolinewidth": 2
          },
          "yaxis": {
           "automargin": true,
           "gridcolor": "white",
           "linecolor": "white",
           "ticks": "",
           "title": {
            "standoff": 15
           },
           "zerolinecolor": "white",
           "zerolinewidth": 2
          }
         }
        },
        "width": 1200,
        "xaxis": {
         "anchor": "y",
         "domain": [
          0,
          1
         ],
         "title": {
          "text": "year"
         }
        },
        "yaxis": {
         "anchor": "x",
         "domain": [
          0,
          1
         ],
         "title": {
          "text": "poverty_percent"
         }
        }
       }
      }
     },
     "metadata": {},
     "output_type": "display_data"
    }
   ],
   "source": [
    "px.line(vis,\n",
    "        x='year',\n",
    "        y='poverty_percent',\n",
    "        color='region',\n",
    "        width=1200,\n",
    "        height=600)"
   ]
  },
  {
   "cell_type": "markdown",
   "metadata": {},
   "source": [
    "Сложно, конечно, анализировать все сразу. Посмотрим топы."
   ]
  },
  {
   "cell_type": "code",
   "execution_count": null,
   "metadata": {},
   "outputs": [],
   "source": [
    "# Отрисуем регоны, которые лидировали по проценту бедности в какие-либо года\n",
    "max_poverty_percent = pd.DataFrame(columns=main.columns)\n",
    "for year in main.year.unique():\n",
    "    df = main[main['year'] == year]\n",
    "    max_poverty_percent = pd.concat([max_poverty_percent, df.sort_values(\n",
    "        'poverty_percent', ascending=False).head(1)], ignore_index=True)\n",
    "\n",
    "px.line(vis[vis.region.isin(max_poverty_percent.region.unique())],\n",
    "        x='year',\n",
    "        y='poverty_percent',\n",
    "        color='region',\n",
    "        width=1200,\n",
    "        height=600)"
   ]
  },
  {
   "cell_type": "markdown",
   "metadata": {},
   "source": [
    "Видим, что всего три региона лидировали по доле бедности. Интересно, а если посмотреть топ-3?"
   ]
  },
  {
   "cell_type": "code",
   "execution_count": null,
   "metadata": {},
   "outputs": [],
   "source": [
    "max_poverty_percent = pd.DataFrame(columns=main.columns)\n",
    "for year in main.year.unique():\n",
    "    df = main[main['year'] == year]\n",
    "    max_poverty_percent = pd.concat([max_poverty_percent, df.sort_values(\n",
    "        'poverty_percent', ascending=False).head(3)], ignore_index=True)\n",
    "\n",
    "px.line(vis[vis.region.isin(max_poverty_percent.region.unique())],\n",
    "        x='year',\n",
    "        y='poverty_percent',\n",
    "        color='region',\n",
    "        width=1200,\n",
    "        height=600)"
   ]
  },
  {
   "cell_type": "markdown",
   "metadata": {},
   "source": [
    "Добавилось достаточно много областей, то есть в лидерах не всегда одни и те же. Заметно, что все их графики начинались выше среднего по России. Может это важно?"
   ]
  },
  {
   "cell_type": "code",
   "execution_count": null,
   "metadata": {},
   "outputs": [],
   "source": [
    "# 24.8 - Процент бедности в РФ в 1995 году\n",
    "test = vis[(vis['year'] == 1995) & (vis['poverty_percent'] >= 24.8)]\n",
    "\n",
    "px.line(vis[vis.region.isin(test.region.unique())],\n",
    "        x='year',\n",
    "        y='poverty_percent',\n",
    "        color='region',\n",
    "        width=1200,\n",
    "        height=600)"
   ]
  },
  {
   "cell_type": "markdown",
   "metadata": {},
   "source": [
    "По графику видно, что часть опустилась ниже среднего"
   ]
  },
  {
   "cell_type": "code",
   "execution_count": null,
   "metadata": {},
   "outputs": [],
   "source": [
    "test = test[test['region'] != 'Российская Федерация']\n",
    "print(f'Регионы беднее среднего по России в 1995:', test.shape[0]-1)\n",
    "test2 = vis[(vis.region.isin(test.region.unique())) & (vis['year'] == 2020) & (\n",
    "    vis['poverty_percent'] >= 12.1)]  # 12.1 - Процент бедности в РФ в 1995 году\n",
    "print(f'Из них беднее среднего в 2020:', test2.shape[0])\n",
    "test3 = vis[(~vis.region.isin(test.region.unique())) & (\n",
    "    vis['year'] == 2020) & (vis['poverty_percent'] >= 12.1)]\n",
    "print(f'Других регионов беднее среднего в России в 2020:', test3.shape[0])\n",
    "print(f'Всего регионов беднее среднего в России в 2020:',\n",
    "      test2.shape[0]+test3.shape[0])"
   ]
  },
  {
   "cell_type": "markdown",
   "metadata": {},
   "source": [
    "Бедность в большинстве этих регионов так и осталась выше среднего, но судя по прибавлению других регионов к 2020, это не единственный определяющий фактор.\n",
    "Перейдём от процентов к абсолютным числам населения"
   ]
  },
  {
   "cell_type": "markdown",
   "metadata": {},
   "source": [
    "## Количество бедностей"
   ]
  },
  {
   "cell_type": "code",
   "execution_count": null,
   "metadata": {},
   "outputs": [],
   "source": [
    "# population.xlsx модифицировался вручную для удобства\n",
    "pop = pd.read_excel('data/population_edit.xlsx')\n",
    "pop.head()"
   ]
  },
  {
   "cell_type": "code",
   "execution_count": null,
   "metadata": {},
   "outputs": [],
   "source": [
    "# Сократим названия\n",
    "pop = unified_regions(pop.dropna(axis=0, subset='region'))"
   ]
  },
  {
   "cell_type": "code",
   "execution_count": null,
   "metadata": {},
   "outputs": [],
   "source": [
    "# конвертируем таблицу wide-to-long, уберем значения позже 2020\n",
    "pop_df = pd.melt(pop, id_vars='region', var_name='year',\n",
    "                 value_name='population')\n",
    "pop_df"
   ]
  },
  {
   "cell_type": "code",
   "execution_count": null,
   "metadata": {},
   "outputs": [],
   "source": [
    "# Проверим, что все регионы основного датасета находятся в дополнительном\n",
    "set(main.region.unique())-(set(pop_df.region.unique()))"
   ]
  },
  {
   "cell_type": "code",
   "execution_count": null,
   "metadata": {},
   "outputs": [],
   "source": [
    "main = main.merge(pop_df, how='left', on=['region', 'year'])"
   ]
  },
  {
   "cell_type": "code",
   "execution_count": null,
   "metadata": {},
   "outputs": [],
   "source": [
    "# Заменим популяцию в старых годах первым доступным значением\n",
    "main.population = main.population.bfill()"
   ]
  },
  {
   "cell_type": "code",
   "execution_count": null,
   "metadata": {},
   "outputs": [],
   "source": [
    "# добавим абсолютные значения бедного населения\n",
    "main['poverty_population'] = main.poverty_percent*main.population/100\n",
    "main['poverty_population'] = main['poverty_population'].apply(int)"
   ]
  },
  {
   "cell_type": "code",
   "execution_count": null,
   "metadata": {},
   "outputs": [],
   "source": [
    "px.line(main,\n",
    "        x='year',\n",
    "        y='poverty_population',\n",
    "        color='region',\n",
    "        width=1200,\n",
    "        height=600)"
   ]
  },
  {
   "cell_type": "markdown",
   "metadata": {},
   "source": [
    "Сложно, конечно, анализировать все сразу. Посмотрим топы."
   ]
  },
  {
   "cell_type": "code",
   "execution_count": null,
   "metadata": {},
   "outputs": [],
   "source": [
    "max_main = pd.DataFrame(columns=main.columns)\n",
    "for year in main.year.unique():\n",
    "    df = main[main['year'] == year]\n",
    "    max_main = pd.concat([max_main, df.sort_values(\n",
    "        'poverty_population', ascending=False).head(1)], ignore_index=True)\n",
    "max_main\n",
    "px.line(main[main.region.isin(max_main.region.unique())],\n",
    "        x='year',\n",
    "        y='poverty_population',\n",
    "        color='region',\n",
    "        width=1200,\n",
    "        height=600)"
   ]
  },
  {
   "cell_type": "markdown",
   "metadata": {},
   "source": [
    "Тут ожидаемо Москва и МО берут числом\n",
    "\n",
    "Отберём топ-регионов с наибольшим числом населения за чертой бедности"
   ]
  },
  {
   "cell_type": "code",
   "execution_count": null,
   "metadata": {},
   "outputs": [],
   "source": [
    "max_main = pd.DataFrame(columns=main.columns)\n",
    "for year in main.year.unique():\n",
    "    df = main[main['year'] == year]\n",
    "    max_main = pd.concat([max_main, df.sort_values(\n",
    "        'poverty_population', ascending=False).head(5)], ignore_index=True)\n",
    "\n",
    "px.line(main[main.region.isin(max_main.region.unique())],\n",
    "        x='year',\n",
    "        y='poverty_population',\n",
    "        color='region',\n",
    "        width=1200,\n",
    "        height=600)"
   ]
  },
  {
   "cell_type": "code",
   "execution_count": null,
   "metadata": {},
   "outputs": [],
   "source": [
    "vis = main[main['year'] == 2020]\n",
    "px.scatter(vis, x='poverty_population', y='poverty_percent', color='region')"
   ]
  },
  {
   "cell_type": "markdown",
   "metadata": {},
   "source": [
    "До применения моделей можно сказать, каким регионам необходимо больше тратить на поддержку малообеспеченного населения"
   ]
  },
  {
   "cell_type": "markdown",
   "metadata": {},
   "source": [
    "## Показатели социальной незащищенности"
   ]
  },
  {
   "cell_type": "markdown",
   "metadata": {},
   "source": [
    "### Возраст"
   ]
  },
  {
   "cell_type": "code",
   "execution_count": null,
   "metadata": {},
   "outputs": [],
   "source": [
    "df_socdem = pd.DataFrame()\n",
    "for year in range(2017, 2021):\n",
    "    socdem = pd.read_excel(f'data/poverty_socdem_{year}.xls', skiprows=[0, 1])\n",
    "    # удалил колонки не несущие новой информации\n",
    "    socdem = socdem.drop(\n",
    "        ['Все население', 'Население трудоспособного возраста'], axis=1)\n",
    "    socdem = socdem.rename({'Unnamed: 0': 'region', 'Дети в возрасте до 16 лет': 'kids',\n",
    "                           \"Население старше трудоспособного возраста\": 'senior'}, axis=1)\n",
    "    socdem['year'] = year\n",
    "    socdem = unified_regions(socdem)\n",
    "    # Сократим названия\n",
    "    df_socdem = pd.concat([df_socdem, socdem])\n",
    "# Удалю строчки, в которых нули по всем соотношениям\n",
    "df_socdem = df_socdem[(df_socdem.kids+df_socdem.senior) != 0]\n",
    "df_socdem = df_socdem.sort_values(['region', 'year'])\n",
    "# Тут чаще нет данных в поздних годах, так что применю ffill()\n",
    "df_socdem = df_socdem.ffill()"
   ]
  },
  {
   "cell_type": "code",
   "execution_count": null,
   "metadata": {},
   "outputs": [],
   "source": [
    "# Проверим, что все регионы основного датасета находятся в дополнительном\n",
    "set(main.region.unique())-(set(pop_df.region.unique()))"
   ]
  },
  {
   "cell_type": "code",
   "execution_count": null,
   "metadata": {},
   "outputs": [],
   "source": [
    "main = main.merge(df_socdem, how='left', on=['region', 'year'])\n",
    "main.year = main.year.apply(int)"
   ]
  },
  {
   "cell_type": "code",
   "execution_count": null,
   "metadata": {},
   "outputs": [],
   "source": [
    "px.imshow(main.corr(numeric_only=True), color_continuous_scale='Bluered')"
   ]
  },
  {
   "cell_type": "markdown",
   "metadata": {},
   "source": [
    "Относительные и абсолютные количества бедностей не зависят от возрастного состава субъектов. (То что бедность падала со временем мы видели по графикам - это же видно по корреляции)"
   ]
  },
  {
   "cell_type": "markdown",
   "metadata": {},
   "source": [
    "### Инвалидности"
   ]
  },
  {
   "cell_type": "code",
   "execution_count": null,
   "metadata": {},
   "outputs": [],
   "source": [
    "disabled = pd.read_csv('data/disabled_total_by_age_2017_2022.csv')\n",
    "disabled"
   ]
  },
  {
   "cell_type": "code",
   "execution_count": null,
   "metadata": {},
   "outputs": [],
   "source": [
    "disabled['region'] = disabled['region'].apply(lambda x: x.strip())\n",
    "# оставим от даты только год\n",
    "disabled = disabled[disabled['date'].str.contains('01-01')]\n",
    "disabled['year'] = disabled['date'].str[:4].astype(int)\n",
    "# сомневаюсь, что число инвалидностей по возрастам для нас существенно\n",
    "disabled.drop(disabled.columns[2:8], axis=1, inplace=True)\n",
    "disabled = disabled[disabled['year'] < 2021]"
   ]
  },
  {
   "cell_type": "code",
   "execution_count": null,
   "metadata": {},
   "outputs": [],
   "source": [
    "# Вычисления для регионов матрешек\n",
    "disabled.loc[disabled['region'] == 'Архангельская область', 'total'] = (disabled.loc[disabled['region'] == 'Архангельская область', 'total'].values\n",
    "                                                                        - disabled.loc[disabled['region'] == 'Ненецкий автономный округ', 'total'].values)\n",
    "disabled.region = disabled.region.str.replace(\n",
    "    'Архангельская область', 'Архангельская область [кроме..]')\n",
    "disabled.loc[disabled['region'] == 'Тюменская область', 'total'] = (disabled.loc[disabled['region'] == 'Тюменская область', 'total'].values\n",
    "                                                                    - disabled.loc[disabled['region'] == 'Ханты-Мансийский автономный округ', 'total'].values\n",
    "                                                                    - disabled.loc[disabled['region'] == 'Ямало-Ненецкий автономный округ', 'total'].values)\n",
    "disabled.region = disabled.region.str.replace(\n",
    "    'Тюменская область', 'Тюменская область [кроме..]')\n",
    "\n",
    "disabled.rename({'total': 'disabled'}, axis=1, inplace=True)"
   ]
  },
  {
   "cell_type": "code",
   "execution_count": null,
   "metadata": {},
   "outputs": [],
   "source": [
    "disabled = unified_regions(disabled)"
   ]
  },
  {
   "cell_type": "code",
   "execution_count": null,
   "metadata": {},
   "outputs": [],
   "source": [
    "# Проверим, что все регионы основного датасета находятся в дополнительном\n",
    "set(main.region.unique())-(set(disabled.region.unique()))"
   ]
  },
  {
   "cell_type": "code",
   "execution_count": null,
   "metadata": {},
   "outputs": [],
   "source": [
    "main = main.merge(disabled, how='left', on=['region', 'year'])"
   ]
  },
  {
   "cell_type": "code",
   "execution_count": null,
   "metadata": {},
   "outputs": [],
   "source": [
    "# Переведем disabled в долю от населения\n",
    "main['disabled_percent'] = main['disabled']/main['population']*100"
   ]
  },
  {
   "cell_type": "code",
   "execution_count": null,
   "metadata": {},
   "outputs": [],
   "source": [
    "px.imshow(main.corr(numeric_only=True), color_continuous_scale='Bluered')"
   ]
  },
  {
   "cell_type": "markdown",
   "metadata": {},
   "source": [
    "Можно подумать, что процент бедных зависит от количества инвалидностей, но это скорее проявление мультиколлинеарности и малого числа данных. Прямая зависимость таргета от процента инвалидностей мала. То же наблюдается для процентов детей и пенсионеров."
   ]
  },
  {
   "cell_type": "code",
   "execution_count": null,
   "metadata": {},
   "outputs": [],
   "source": [
    "px.imshow(main[main.year > 2016].corr(numeric_only=True),\n",
    "          color_continuous_scale='Bluered')"
   ]
  },
  {
   "cell_type": "markdown",
   "metadata": {},
   "source": [
    "Да, на промежутке 4 лет процент бедности так же коррелирует с общим населением региона, как и с числом инвалидностей"
   ]
  },
  {
   "cell_type": "markdown",
   "metadata": {},
   "source": [
    "### Жилищные условия"
   ]
  },
  {
   "cell_type": "code",
   "execution_count": null,
   "metadata": {},
   "outputs": [],
   "source": [
    "housing_space = pd.read_excel('data/housing_2020.xlsx')\n",
    "# housing_space"
   ]
  },
  {
   "cell_type": "code",
   "execution_count": null,
   "metadata": {},
   "outputs": [],
   "source": [
    "housing_space = housing_space.rename(\n",
    "    {housing_space.columns[0]: 'region'}, axis=1)\n",
    "housing_space['year'] = 2020"
   ]
  },
  {
   "cell_type": "code",
   "execution_count": null,
   "metadata": {},
   "outputs": [],
   "source": [
    "housing_space = unified_regions(housing_space)\n",
    "sorted(set(main.region.unique())-(set(housing_space.region.unique())))"
   ]
  },
  {
   "cell_type": "code",
   "execution_count": null,
   "metadata": {},
   "outputs": [],
   "source": [
    "# Не хочу добавлять данные в основной датасет, так тут всего один год. Буду рассматривать отдельно\n",
    "test = main.iloc[:, :3].merge(housing_space, how='left', on=['region', 'year'])"
   ]
  },
  {
   "cell_type": "code",
   "execution_count": null,
   "metadata": {},
   "outputs": [],
   "source": [
    "# Посмотрю на заметные корреляции, потом переименую нужные колонки\n",
    "test.corr(numeric_only=True)['poverty_percent'].sort_values(ascending=False)"
   ]
  },
  {
   "cell_type": "code",
   "execution_count": null,
   "metadata": {},
   "outputs": [],
   "source": [
    "housing_space = housing_space.rename({housing_space.columns[7]: 'living_space',\n",
    "                                      housing_space.columns[8]: 'living_rooms'}, axis=1)\n",
    "housing_space = housing_space.drop(housing_space.columns[1:7], axis=1)"
   ]
  },
  {
   "cell_type": "code",
   "execution_count": null,
   "metadata": {},
   "outputs": [],
   "source": [
    "housing_cond = pd.read_excel('data/housing_2020.xlsx', sheet_name=1)\n",
    "# housing_cond"
   ]
  },
  {
   "cell_type": "code",
   "execution_count": null,
   "metadata": {},
   "outputs": [],
   "source": [
    "housing_cond = housing_cond.rename({housing_cond.columns[0]: 'region'}, axis=1)\n",
    "housing_cond['year'] = 2020\n",
    "housing_cond = housing_cond.replace('...', np.nan)\n",
    "housing_cond = housing_cond.replace('...*', np.nan)"
   ]
  },
  {
   "cell_type": "code",
   "execution_count": null,
   "metadata": {},
   "outputs": [],
   "source": [
    "housing_cond = housing_cond.fillna(housing_cond.iloc[0])"
   ]
  },
  {
   "cell_type": "code",
   "execution_count": null,
   "metadata": {},
   "outputs": [],
   "source": [
    "housing_cond = unified_regions(housing_cond)\n",
    "sorted(set(main.region.unique())-(set(housing_cond.region.unique())))\n",
    "test = main.iloc[:, :3].merge(housing_cond, how='left', on=['region', 'year'])"
   ]
  },
  {
   "cell_type": "code",
   "execution_count": null,
   "metadata": {},
   "outputs": [],
   "source": [
    "test.corr(numeric_only=True)['poverty_percent'].sort_values(ascending=False)"
   ]
  },
  {
   "cell_type": "code",
   "execution_count": null,
   "metadata": {},
   "outputs": [],
   "source": [
    "housing_cond = housing_cond.rename({housing_cond.columns[2]: 'improving_living_conditions',\n",
    "                                    # Плохо понимаю смысл этого фактора, но такая хорошая корреляция!\n",
    "                                    housing_cond.columns[-4]: 'improving_living_conditions(other)',\n",
    "                                    housing_cond.columns[5]: 'cramped_and_bad_conditions',\n",
    "                                    housing_cond.columns[7]: 'counting_on_housing_from_gov',\n",
    "                                    housing_cond.columns[9]: 'bying_housing',\n",
    "                                    housing_cond.columns[-2]: 'not_improving_living_conditions'}, axis=1)\n",
    "housing_cond = housing_cond.iloc[:, [0, 2, 5, 7, 9, -4, -2, -1]]"
   ]
  },
  {
   "cell_type": "code",
   "execution_count": null,
   "metadata": {},
   "outputs": [],
   "source": [
    "main = main.merge(housing_space, how='left', on=['region', 'year'])\n",
    "main = main.merge(housing_cond, how='left', on=['region', 'year'])"
   ]
  },
  {
   "cell_type": "code",
   "execution_count": null,
   "metadata": {},
   "outputs": [],
   "source": [
    "px.imshow(main.corr(numeric_only=True)[\n",
    "          ['poverty_percent', 'poverty_population']], color_continuous_scale='Bluered')"
   ]
  },
  {
   "cell_type": "markdown",
   "metadata": {},
   "source": [
    "Таким образом, в более бедных регионах живут в более плохих условиях, больше стремятся улучшить жилижные условия, причем реже - с помощью государства. При этом живут в регионах с большей бедностью на бОльших площадях и с бОльшим числом жилых комнат. В менее бедных меньше стремятся улучшить жилищные условия, и при этом чаще покупают жилье.\n",
    "Уберу факторы, относящиеся к улучшениям условий, так как это скорее следствие уровня бедности, чем наоборот"
   ]
  },
  {
   "cell_type": "code",
   "execution_count": null,
   "metadata": {},
   "outputs": [],
   "source": [
    "main = main.drop(['improving_living_conditions', 'bying_housing',\n",
    "                 'improving_living_conditions(other)', 'not_improving_living_conditions'], axis=1)"
   ]
  },
  {
   "cell_type": "markdown",
   "metadata": {},
   "source": [
    "# Кластеризация регионов России по нуждаемости в помощи малообеспеченным/неблагополучным слоям населения"
   ]
  },
  {
   "cell_type": "code",
   "execution_count": null,
   "metadata": {},
   "outputs": [],
   "source": [
    "# Пересмотрим корреляции в датасете, уберем слишком скореллированные факторы и неважные для отбора факторы\n",
    "px.imshow(main.corr(numeric_only=True)[\n",
    "          abs(main.corr(numeric_only=True)) > 0.5], color_continuous_scale='Bluered')"
   ]
  },
  {
   "cell_type": "code",
   "execution_count": null,
   "metadata": {},
   "outputs": [],
   "source": [
    "main = main.drop(['population', 'disabled', 'living_space', 'kids'], axis=1)"
   ]
  },
  {
   "cell_type": "markdown",
   "metadata": {},
   "source": [
    "## Размышления до кластеризации"
   ]
  },
  {
   "cell_type": "markdown",
   "metadata": {},
   "source": [
    "Хотелось бы, чтобы оказались выделены кластеры\n",
    "1) с наибольшим процентом бедных\n",
    "2) наибольшим количеством бедных\n",
    "3) наибольшим числом социально-незащищенных\n",
    "\n",
    "Ну и кластеры групп в безопасности и промежуточных"
   ]
  },
  {
   "attachments": {
    "image.png": {
     "image/png": "[encoded data removed]"
    }
   },
   "cell_type": "markdown",
   "metadata": {},
   "source": [
    "![image.png](attachment:image.png)"
   ]
  },
  {
   "attachments": {
    "image.png": {
     "image/png": "[encoded data removed]"
    }
   },
   "cell_type": "markdown",
   "metadata": {},
   "source": [
    "![image.png](attachment:image.png)"
   ]
  },
  {
   "cell_type": "markdown",
   "metadata": {},
   "source": [
    "Про feature social обьясню позже"
   ]
  },
  {
   "cell_type": "code",
   "execution_count": null,
   "metadata": {},
   "outputs": [],
   "source": [
    "# Берем данные за 2020, чтобы делать выводы на 2021\n",
    "test = main[main.year == 2020].copy()"
   ]
  },
  {
   "cell_type": "markdown",
   "metadata": {},
   "source": [
    "Я пробовал запускать кластеризацию по разроненным данным малообеспеченных/социально-незащищенных, но такой результат сложно интерперетировать.\n",
    "Приведу ее в качестве baseline решения"
   ]
  },
  {
   "cell_type": "markdown",
   "metadata": {},
   "source": [
    "## baseline"
   ]
  },
  {
   "cell_type": "code",
   "execution_count": null,
   "metadata": {},
   "outputs": [],
   "source": [
    "cluster_df = test.reset_index(drop=True)\n",
    "# Отложим метки регионов\n",
    "save_region_data = cluster_df.loc[:, ['region']].reset_index(drop=True)\n",
    "cluster_df.drop(['region'], axis=1, inplace=True)"
   ]
  },
  {
   "cell_type": "code",
   "execution_count": null,
   "metadata": {},
   "outputs": [],
   "source": [
    "cluster_df"
   ]
  },
  {
   "cell_type": "code",
   "execution_count": null,
   "metadata": {},
   "outputs": [],
   "source": [
    "# подготовим данные к кластеризации\n",
    "from sklearn.decomposition import PCA\n",
    "from sklearn.preprocessing import StandardScaler\n",
    "ss = StandardScaler()\n",
    "cluster_df_scaled = pd.DataFrame(ss.fit_transform(\n",
    "    cluster_df), columns=cluster_df.columns)\n",
    "# определяем метод главных компонент с двумя компонентами\n",
    "pca = PCA(n_components=0.9)\n",
    "# обучаем алгоритм на наших данных\n",
    "X_pca = pca.fit_transform(cluster_df_scaled)"
   ]
  },
  {
   "cell_type": "code",
   "execution_count": null,
   "metadata": {},
   "outputs": [],
   "source": [
    "# Определим число кластеров\n",
    "from sklearn import metrics\n",
    "from sklearn.cluster import KMeans\n",
    "# проходимся циклом по всем нужным нам значениям количества кластеров\n",
    "ans = {'sil': (0, 0), 'CH': (0, 0), 'DB': (0, 100)}\n",
    "for i in range(2, 11):\n",
    "    # обучаем модель k-means с текущим количеством кластеров\n",
    "    km = KMeans(n_clusters=i, random_state=1).fit(X_pca)\n",
    "    # предсказываем метки\n",
    "    y_pred = km.labels_\n",
    "    # выводим результат для коэффициента силуэта\n",
    "    new_sil = metrics.silhouette_score(X_pca,  y_pred)\n",
    "    new_CH = metrics.calinski_harabasz_score(X_pca, y_pred)\n",
    "    new_DB = metrics.davies_bouldin_score(X_pca, y_pred)\n",
    "    print(i, new_sil, new_CH, new_DB)\n",
    "    if new_sil > ans['sil'][1]:\n",
    "        ans['sil'] = (i, new_sil)\n",
    "    if new_CH > ans['CH'][1]:\n",
    "        ans['CH'] = (i, new_CH)\n",
    "    if new_DB < ans['DB'][1]:\n",
    "        ans['DB'] = (i, new_DB)\n",
    "print(ans)"
   ]
  },
  {
   "cell_type": "code",
   "execution_count": null,
   "metadata": {},
   "outputs": [],
   "source": [
    "from sklearn.cluster import KMeans\n",
    "kmeans = KMeans(n_clusters=6, random_state=1)\n",
    "kmeans.fit(X_pca)\n",
    "cluster_res = cluster_df.copy()\n",
    "cluster_res['cluster'] = kmeans.labels_\n",
    "cluster_res = pd.concat(\n",
    "    [cluster_res.reset_index(drop=True), save_region_data], axis=1)"
   ]
  },
  {
   "cell_type": "code",
   "execution_count": null,
   "metadata": {},
   "outputs": [],
   "source": [
    "px.scatter(cluster_res, x='poverty_population', y='poverty_percent', color='cluster',\n",
    "           hover_data={'region': True})"
   ]
  },
  {
   "cell_type": "markdown",
   "metadata": {},
   "source": [
    "Регионы как-то делятся на кластеры. Есть кластеры с большим процентом бедности и большим числом бедностей. Но как выделяются остальные кластеры разобрать сложно."
   ]
  },
  {
   "cell_type": "markdown",
   "metadata": {},
   "source": [
    "## Введение параметра социальной незащищенности social"
   ]
  },
  {
   "cell_type": "markdown",
   "metadata": {},
   "source": [
    "\n",
    "Соберем собственную формулу \"нуждаемости региона в помощи\""
   ]
  },
  {
   "cell_type": "code",
   "execution_count": null,
   "metadata": {},
   "outputs": [],
   "source": [
    "test = main[main.year == 2020].copy()\n",
    "# Собираем фактор социально-незащищенных: неработающих и с плохими условиями жилья. Формула подбиралась \"на глаз\", так чтобы лучше разделить регионы\n",
    "test['social'] = test['senior']*2+test.disabled_percent*2 + \\\n",
    "    (-test.living_rooms+test.cramped_and_bad_conditions -\n",
    "     test.counting_on_housing_from_gov)/2\n",
    "test = test.drop(['senior', 'disabled_percent', 'living_rooms',\n",
    "                 'cramped_and_bad_conditions', 'counting_on_housing_from_gov'], axis=1)"
   ]
  },
  {
   "cell_type": "code",
   "execution_count": null,
   "metadata": {},
   "outputs": [],
   "source": [
    "from sklearn.cluster import KMeans\n",
    "from sklearn import metrics\n",
    "from sklearn.decomposition import PCA\n",
    "from sklearn.preprocessing import StandardScaler\n",
    "cluster_df = test.reset_index(drop=True)\n",
    "# Отложим метки регионов\n",
    "save_region_data = cluster_df.loc[:, ['region']].reset_index(drop=True)\n",
    "cluster_df.drop(['region'], axis=1, inplace=True)\n",
    "\n",
    "# подготовим данные к кластеризации\n",
    "ss = StandardScaler()\n",
    "cluster_df_scaled = pd.DataFrame(ss.fit_transform(\n",
    "    cluster_df), columns=cluster_df.columns)\n",
    "# определяем метод главных компонент с двумя компонентами\n",
    "pca = PCA(n_components=0.9)\n",
    "# обучаем алгоритм на наших данных\n",
    "X_pca = pca.fit_transform(cluster_df_scaled)\n",
    "\n",
    "# Определим число кластеров\n",
    "# проходимся циклом по всем нужным нам значениям количества кластеров\n",
    "ans = {'sil': (0, 0), 'CH': (0, 0), 'DB': (0, 100)}\n",
    "for i in range(2, 11):\n",
    "    # обучаем модель k-means с текущим количеством кластеров\n",
    "    km = KMeans(n_clusters=i, random_state=1).fit(X_pca)\n",
    "    # предсказываем метки\n",
    "    y_pred = km.labels_\n",
    "    # выводим результат для коэффициента силуэта\n",
    "    new_sil = metrics.silhouette_score(X_pca,  y_pred)\n",
    "    new_CH = metrics.calinski_harabasz_score(X_pca, y_pred)\n",
    "    new_DB = metrics.davies_bouldin_score(X_pca, y_pred)\n",
    "    print(i, new_sil, new_CH, new_DB)\n",
    "    if new_sil > ans['sil'][1]:\n",
    "        ans['sil'] = (i, new_sil)\n",
    "    if new_CH > ans['CH'][1]:\n",
    "        ans['CH'] = (i, new_CH)\n",
    "    if new_DB < ans['DB'][1]:\n",
    "        ans['DB'] = (i, new_DB)\n",
    "print(ans)"
   ]
  },
  {
   "cell_type": "markdown",
   "metadata": {},
   "source": [
    "Круто, что по метрикам выделется именно 5 кластеров, как хотелось"
   ]
  },
  {
   "cell_type": "code",
   "execution_count": null,
   "metadata": {},
   "outputs": [],
   "source": [
    "from sklearn.cluster import KMeans\n",
    "kmeans = KMeans(n_clusters=5, random_state=42)\n",
    "kmeans.fit(X_pca)\n",
    "cluster_res = cluster_df.copy()\n",
    "cluster_res['cluster'] = kmeans.labels_\n",
    "cluster_res = pd.concat(\n",
    "    [cluster_res.reset_index(drop=True), save_region_data], axis=1)"
   ]
  },
  {
   "cell_type": "code",
   "execution_count": null,
   "metadata": {},
   "outputs": [],
   "source": [
    "px.scatter(cluster_res, x='poverty_population', y='poverty_percent', color='cluster',\n",
    "           hover_data={'region': True})"
   ]
  },
  {
   "cell_type": "code",
   "execution_count": null,
   "metadata": {},
   "outputs": [],
   "source": [
    "px.scatter(cluster_res, x='social', y='poverty_percent', color='cluster',\n",
    "           hover_data={'region': True})"
   ]
  },
  {
   "cell_type": "code",
   "execution_count": null,
   "metadata": {},
   "outputs": [],
   "source": [
    "px.scatter_3d(cluster_res, x='poverty_population', z='poverty_percent', y='social', color='cluster',\n",
    "              hover_data={'region': True})"
   ]
  },
  {
   "cell_type": "markdown",
   "metadata": {},
   "source": [
    "Получилось?! Есть кластеры:\n",
    "1) с наибольшим процентом бедных - 4\n",
    "2) наибольшим количеством бедных - 1\n",
    "3) наиболее социально-незащищенных - 2\n",
    "4) благополучные (и маленькие) - 3\n",
    "5) промежуточный - 0"
   ]
  },
  {
   "cell_type": "markdown",
   "metadata": {},
   "source": [
    "## Прогноз"
   ]
  },
  {
   "cell_type": "markdown",
   "metadata": {},
   "source": [
    "Продлим основные ряды процента бедных и популяции до 2021 года"
   ]
  },
  {
   "cell_type": "markdown",
   "metadata": {},
   "source": [
    "### Принцип алгоритма для одного региона\n"
   ]
  },
  {
   "cell_type": "code",
   "execution_count": null,
   "metadata": {},
   "outputs": [],
   "source": [
    "poverty_percent_to_2021 = main[main['region']\n",
    "                               == 'Белгородская область'].iloc[:, 1:3]\n",
    "poverty_percent_to_2021.set_index('year', inplace=True)\n",
    "poverty_percent_to_2021"
   ]
  },
  {
   "cell_type": "code",
   "execution_count": null,
   "metadata": {},
   "outputs": [],
   "source": [
    "# импортируем библиотеку\n",
    "from statsmodels.tsa.seasonal import seasonal_decompose\n",
    "# производим декомпозицию временного ряда\n",
    "decomposition = seasonal_decompose(poverty_percent_to_2021, period=1)\n",
    "fig = decomposition.plot()\n",
    "plt.show()"
   ]
  },
  {
   "cell_type": "code",
   "execution_count": null,
   "metadata": {},
   "outputs": [],
   "source": [
    "# Данные делим по порядку\n",
    "train_df = poverty_percent_to_2021.iloc[:-1]\n",
    "test_df = poverty_percent_to_2021.iloc[-1:]\n",
    "train_df.shape, test_df.shape"
   ]
  },
  {
   "cell_type": "code",
   "execution_count": null,
   "metadata": {},
   "outputs": [],
   "source": [
    "# Стационарность\n",
    "from statsmodels.tsa.stattools import adfuller\n",
    "\n",
    "\n",
    "def adfuller_test(df):\n",
    "    test1 = adfuller(df)\n",
    "    print(\"adf: \", test1[0])\n",
    "    print(\"p-value: \", test1[1])\n",
    "    print(\"Critical values: \", test1[4])\n",
    "    if test1[0] > test1[4][\"5%\"]:\n",
    "        print(\"Ряд нестационарен\")\n",
    "    else:\n",
    "        print(\"Ряд стационарен\")\n",
    "\n",
    "\n",
    "adfuller_test(train_df)"
   ]
  },
  {
   "cell_type": "code",
   "execution_count": null,
   "metadata": {},
   "outputs": [],
   "source": [
    "# Автоподбор параметров\n",
    "import pmdarima as pm\n",
    "smodel = pm.auto_arima(\n",
    "    train_df,\n",
    "    start_p=0,\n",
    "    d=None,\n",
    "    start_q=0,\n",
    "    max_p=5,\n",
    "    max_d=5,\n",
    "    max_q=5,\n",
    "    test=\"adf\",\n",
    "    error_action=\"ignore\",\n",
    "    trace=True\n",
    ")\n",
    "smodel_fit = smodel.fit(train_df)\n",
    "# Предсказание AR\n",
    "ar_pred = smodel_fit.predict(1)"
   ]
  },
  {
   "cell_type": "code",
   "execution_count": null,
   "metadata": {},
   "outputs": [],
   "source": [
    "# Предсказание экспонентой\n",
    "from statsmodels.tsa.api import SimpleExpSmoothing\n",
    "ses = SimpleExpSmoothing(train_df)\n",
    "alpha = 0.7\n",
    "model = ses.fit(smoothing_level=alpha, optimized=False)\n",
    "exp_pred = model.forecast(1)\n",
    "exp_pred"
   ]
  },
  {
   "cell_type": "code",
   "execution_count": null,
   "metadata": {},
   "outputs": [],
   "source": [
    "# Сравнение результатов\n",
    "from sklearn.metrics import mean_absolute_percentage_error\n",
    "print(mean_absolute_percentage_error(test_df, ar_pred)*100,\n",
    "      mean_absolute_percentage_error(test_df, exp_pred)*100)"
   ]
  },
  {
   "cell_type": "markdown",
   "metadata": {},
   "source": [
    "### Проверю, насколько хорошо предсказываются значения для всех регионов"
   ]
  },
  {
   "cell_type": "code",
   "execution_count": null,
   "metadata": {},
   "outputs": [],
   "source": [
    "# Сохранял получающиеся значения для оценки. Не необходимо, но интересно\n",
    "test_pred = {'region': [], 'y_test': [], 'pred': [], \"MAPE\": []}\n",
    "for region in main.region.unique():\n",
    "\n",
    "    test_pred['region'].append(region)\n",
    "    poverty_percent_to_2021 = main[main['region'] == region].iloc[:, 1:3]\n",
    "    poverty_percent_to_2021.set_index('year', inplace=True)\n",
    "\n",
    "    train_df = poverty_percent_to_2021.iloc[:-1]\n",
    "    test_df = poverty_percent_to_2021.iloc[-1:]\n",
    "    test_pred['y_test'].append(test_df.values[0])\n",
    "\n",
    "    smodel = pm.auto_arima(\n",
    "        train_df,\n",
    "        start_p=0,\n",
    "        d=None,\n",
    "        start_q=0,\n",
    "        max_p=4,\n",
    "        max_q=4,\n",
    "        test=\"pp\",\n",
    "        error_action=\"ignore\"\n",
    "    )\n",
    "    smodel_fit = smodel.fit(train_df)\n",
    "    ar_pred = smodel_fit.predict(1)\n",
    "\n",
    "    from statsmodels.tsa.api import SimpleExpSmoothing\n",
    "    ses = SimpleExpSmoothing(train_df)\n",
    "    model = ses.fit(smoothing_level=0.7, optimized=False)\n",
    "    exp_pred = model.forecast(1)\n",
    "\n",
    "    pred = (min(ar_pred.values[0], np.array(exp_pred)[0]))\n",
    "    test_pred['pred'].append(pred)\n",
    "\n",
    "    test_pred['MAPE'].append(mean_absolute_percentage_error(\n",
    "        test_df.values[0], [pred]).round(4)*100)\n",
    "\n",
    "test_pred_df = pd.DataFrame(test_pred)\n",
    "print(f'Средний MAPE для предсказаний: {test_pred_df.MAPE.mean()}')"
   ]
  },
  {
   "cell_type": "markdown",
   "metadata": {},
   "source": [
    "Хороший результат. Сделаем предсказания для 2021 года и добавим в main "
   ]
  },
  {
   "cell_type": "markdown",
   "metadata": {},
   "source": [
    "### Предсказания poverty_percent на 2021"
   ]
  },
  {
   "cell_type": "code",
   "execution_count": null,
   "metadata": {},
   "outputs": [],
   "source": [
    "pred_dic = {'region': [], 'poverty_percent': []}\n",
    "for region in main.region.unique():\n",
    "\n",
    "    pred_dic['region'].append(region)\n",
    "\n",
    "    poverty_percent_to_2021 = main[main['region'] == region].iloc[:, 1:3]\n",
    "    poverty_percent_to_2021.set_index('year', inplace=True)\n",
    "\n",
    "    smodel = pm.auto_arima(\n",
    "        poverty_percent_to_2021,\n",
    "        start_p=0,\n",
    "        d=None,\n",
    "        start_q=0,\n",
    "        max_p=4,\n",
    "        max_q=4,\n",
    "        test=\"pp\",\n",
    "        error_action=\"ignore\"\n",
    "    )\n",
    "    smodel_fit = smodel.fit(poverty_percent_to_2021)\n",
    "    ar_pred = smodel_fit.predict(1)\n",
    "\n",
    "    from statsmodels.tsa.api import SimpleExpSmoothing\n",
    "    ses = SimpleExpSmoothing(poverty_percent_to_2021)\n",
    "    model = ses.fit(smoothing_level=0.7, optimized=False)\n",
    "    exp_pred = model.forecast(1)\n",
    "\n",
    "    pred = (min(ar_pred.values[0], np.array(exp_pred)[0]))\n",
    "    pred_dic['poverty_percent'].append(pred)\n",
    "\n",
    "pred_df = pd.DataFrame(pred_dic)"
   ]
  },
  {
   "cell_type": "code",
   "execution_count": null,
   "metadata": {},
   "outputs": [],
   "source": [
    "# В сделанном ранее df c популяциями есть 2021 год\n",
    "pred_df = pred_df.merge(pop_df[pop_df['year'] == 2021])"
   ]
  },
  {
   "cell_type": "code",
   "execution_count": null,
   "metadata": {},
   "outputs": [],
   "source": [
    "pred_df['poverty_population'] = pred_df['poverty_percent'] / \\\n",
    "    100 * pred_df['population']\n",
    "pred_df.drop(['population', 'year'], axis=1)"
   ]
  },
  {
   "cell_type": "markdown",
   "metadata": {},
   "source": [
    "## Кластеризация с предсказанными значениями бедностей"
   ]
  },
  {
   "cell_type": "code",
   "execution_count": null,
   "metadata": {},
   "outputs": [],
   "source": [
    "test = main[main.year == 2020].drop(['poverty_population', 'poverty_percent'], axis=1).merge(\n",
    "    pred_df.drop(['population', 'year'], axis=1), on='region')\n",
    "test['social'] = test['senior']*2+test.disabled_percent*2 + \\\n",
    "    (-test.living_rooms+test.cramped_and_bad_conditions -\n",
    "     test.counting_on_housing_from_gov)/2\n",
    "test = test.drop(['senior', 'disabled_percent', 'living_rooms',\n",
    "                 'cramped_and_bad_conditions', 'counting_on_housing_from_gov'], axis=1)"
   ]
  },
  {
   "cell_type": "code",
   "execution_count": null,
   "metadata": {},
   "outputs": [],
   "source": [
    "from sklearn.decomposition import PCA\n",
    "from sklearn.preprocessing import StandardScaler\n",
    "cluster_df = test.reset_index(drop=True)\n",
    "# Отложим метки регионов\n",
    "save_region_data = cluster_df.loc[:, ['region']].reset_index(drop=True)\n",
    "cluster_df.drop(['region'], axis=1, inplace=True)\n",
    "\n",
    "# подготовим данные к кластеризации\n",
    "ss = StandardScaler()\n",
    "cluster_df_scaled = pd.DataFrame(ss.fit_transform(\n",
    "    cluster_df), columns=cluster_df.columns)\n",
    "# определяем метод главных компонент с двумя компонентами\n",
    "pca = PCA(n_components=0.9)\n",
    "# обучаем алгоритм на наших данных\n",
    "X_pca = pca.fit_transform(cluster_df_scaled)"
   ]
  },
  {
   "cell_type": "code",
   "execution_count": null,
   "metadata": {},
   "outputs": [],
   "source": [
    "from sklearn.cluster import KMeans\n",
    "kmeans = KMeans(n_clusters=5, random_state=42)\n",
    "kmeans.fit(X_pca)\n",
    "cluster_res['pred_cluster'] = kmeans.labels_"
   ]
  },
  {
   "cell_type": "code",
   "execution_count": null,
   "metadata": {},
   "outputs": [],
   "source": [
    "px.scatter(cluster_res, x='poverty_population', y='poverty_percent', color='pred_cluster',\n",
    "           hover_data={'region': True})"
   ]
  },
  {
   "attachments": {
    "image-2.png": {
     "image/png": "[encoded data removed]"
    }
   },
   "cell_type": "markdown",
   "metadata": {},
   "source": [
    "Курганская область ушла из кластера наибольшего процента бедности. Минимальное, конечно, изменение, но всё же значимо\n",
    "![image-2.png](attachment:image-2.png)\n",
    "(график на цифрах 2020 года)"
   ]
  },
  {
   "cell_type": "code",
   "execution_count": null,
   "metadata": {},
   "outputs": [],
   "source": [
    "px.scatter_3d(cluster_res, x='poverty_population', z='poverty_percent', y='social', color='pred_cluster',\n",
    "              hover_data={'region': True})"
   ]
  },
  {
   "cell_type": "markdown",
   "metadata": {},
   "source": [
    "Зафиксируем\n",
    "1) с наибольшим процентом бедных - 3\n",
    "2) наибольшим количеством бедных - 2\n",
    "3) наиболее социально-незащищенных -0\n",
    "4) благополучные - 4\n",
    "5) промежуточный (средние значения) - 1"
   ]
  },
  {
   "cell_type": "code",
   "execution_count": null,
   "metadata": {},
   "outputs": [],
   "source": [
    "cluster_res"
   ]
  },
  {
   "cell_type": "code",
   "execution_count": null,
   "metadata": {},
   "outputs": [],
   "source": [
    "lib = cluster_res.groupby('pred_cluster').agg({'region': [tuple, len],\n",
    "                                               'poverty_percent': np.mean,\n",
    "                                               'poverty_population': np.mean, 'social': np.mean})\n",
    "lib"
   ]
  },
  {
   "cell_type": "markdown",
   "metadata": {},
   "source": [
    "# Сравним кластеры"
   ]
  },
  {
   "cell_type": "code",
   "execution_count": null,
   "metadata": {},
   "outputs": [],
   "source": [
    "from scipy.stats import shapiro\n",
    "\n",
    "H0 = 'Данные распределены нормально'\n",
    "Ha = 'Данные не распределены нормально (мы отвергаем H0)'\n",
    "alpha = 0.05\n",
    "\n",
    "data = cluster_res.drop(['cluster', 'region', 'year'], axis=1)\n",
    "for col in data.columns[:3]:\n",
    "    print(col)\n",
    "    _, p = shapiro(data[col])\n",
    "    print('p=%.3f' % p)\n",
    "\n",
    "    # Интерпретация\n",
    "\n",
    "    if p > alpha:\n",
    "        print(H0)\n",
    "    else:\n",
    "        print(Ha)"
   ]
  },
  {
   "cell_type": "code",
   "execution_count": null,
   "metadata": {},
   "outputs": [],
   "source": [
    "data.hist(figsize=(16, 14))"
   ]
  },
  {
   "cell_type": "markdown",
   "metadata": {},
   "source": [
    "Значит для первых двух признаков используем тест суммы рангов Вилкоксона, для третьего - Независимый T-тест. Сравним выделяющиеся по этим признакам кластеры с \"безопасным\""
   ]
  },
  {
   "cell_type": "code",
   "execution_count": null,
   "metadata": {},
   "outputs": [],
   "source": [
    "from scipy.stats import ranksums\n",
    "\n",
    "\n",
    "def wilk(df, cluster, parameter):\n",
    "\n",
    "    H0 = f', а значит {parameter} в определяемом кластере {cluster} не отличается от его же в среднем кластере\\n'\n",
    "    Ha = f', а значит {parameter} в определяемом кластере {cluster} больше, чем в среднем\\n'\n",
    "\n",
    "    print('\\n' + \"*** Результаты теста суммы рангов Вилкоксона ***\")\n",
    "    test_results = ranksums(df[df['pred_cluster'] == cluster][parameter],\n",
    "                            df[df['pred_cluster'] == 1][parameter], alternative='greater')\n",
    "\n",
    "    p = round(test_results[1], 2)\n",
    "\n",
    "    if p > alpha:\n",
    "        print(f\"{p} > {alpha}. Мы не можем отвергнуть нулевую гипотезу{H0}\")\n",
    "    else:\n",
    "        print(f\"{p} <= {alpha}. Мы отвергаем нулевую гипотезу{Ha}\")\n",
    "\n",
    "\n",
    "print('Проверим, что относительная бедность в кластере 3 больше, чем в \"среднем\" кластере 1')\n",
    "wilk(data, 3, 'poverty_percent')\n",
    "print('Проверим, что абсолютное число малоимущих в кластере 2 больше, чем в \"среднем\" кластере 1')\n",
    "wilk(data, 2, 'poverty_population')"
   ]
  },
  {
   "cell_type": "code",
   "execution_count": null,
   "metadata": {},
   "outputs": [],
   "source": [
    "from scipy.stats import ttest_ind\n",
    "\n",
    "\n",
    "def t_test(df, cluster, parameter):\n",
    "\n",
    "    H0 = f', а значит {parameter} в определяемом кластере {cluster} не отличается от его же в среднем кластере\\n'\n",
    "    Ha = f', а значит {parameter} в определяемом кластере {cluster} больше, чем в среднем\\n'\n",
    "\n",
    "    print('\\n' + \"*** Результаты независимого T-теста ***\")\n",
    "    test_results = ttest_ind(df[df['pred_cluster'] == cluster][parameter],\n",
    "                             df[df['pred_cluster'] == 1][parameter], alternative='greater')\n",
    "\n",
    "    p = round(test_results[1], 2)\n",
    "\n",
    "    if p > alpha:\n",
    "        print(f\"{p} > {alpha}. Мы не можем отвергнуть нулевую гипотезу{H0}\")\n",
    "    else:\n",
    "        print(f\"{p} <= {alpha}. Мы отвергаем нулевую гипотезу{Ha}\")\n",
    "\n",
    "\n",
    "print('Проверим, что социальное неблагополучие в кластере 0 больше, чем в \"среднем\" кластере 1')\n",
    "t_test(data, 0, 'social')"
   ]
  },
  {
   "cell_type": "markdown",
   "metadata": {},
   "source": [
    "#  Экономика"
   ]
  },
  {
   "cell_type": "markdown",
   "metadata": {},
   "source": [
    "## Валовой региональный продукт"
   ]
  },
  {
   "cell_type": "code",
   "execution_count": null,
   "metadata": {},
   "outputs": [],
   "source": [
    "main = pd.read_pickle('main.pkl')"
   ]
  },
  {
   "cell_type": "code",
   "execution_count": null,
   "metadata": {},
   "outputs": [],
   "source": [
    "grp_df = pd.read_excel(\n",
    "    'data/gross_regional_product_1996_2020.xls', skiprows=[0, 1])\n",
    "grp_df = grp_df.rename({grp_df.columns[0]: 'region'}, axis=1)\n",
    "grp_df = unified_regions(grp_df)\n",
    "# конвертируем таблицу wide-to-long\n",
    "grp_df = pd.melt(grp_df, id_vars='region',\n",
    "                 var_name='year', value_name='grp_value')\n",
    "grp_df.year = grp_df.year.apply(int)\n",
    "grp_df"
   ]
  },
  {
   "cell_type": "code",
   "execution_count": null,
   "metadata": {},
   "outputs": [],
   "source": [
    "grp_df.info()"
   ]
  },
  {
   "cell_type": "code",
   "execution_count": null,
   "metadata": {},
   "outputs": [],
   "source": [
    "grp_df.grp_value.value_counts(dropna=False)"
   ]
  },
  {
   "cell_type": "markdown",
   "metadata": {},
   "source": [
    "В данных есть пропуски и нули. К сожалению, на слишком больших промежутках, чтобы как-то разумно их заменить. Заменим 0 на NA"
   ]
  },
  {
   "cell_type": "code",
   "execution_count": null,
   "metadata": {},
   "outputs": [],
   "source": [
    "grp_df = grp_df.replace(0, np.nan).dropna(how='any', axis=0)"
   ]
  },
  {
   "cell_type": "code",
   "execution_count": null,
   "metadata": {},
   "outputs": [],
   "source": [
    "set(main.region.unique())-(set(disabled.region.unique()))"
   ]
  },
  {
   "cell_type": "code",
   "execution_count": null,
   "metadata": {},
   "outputs": [],
   "source": [
    "main = main.merge(grp_df, how='left', on=['region', 'year'])\n",
    "px.imshow(main.corr(numeric_only=True), color_continuous_scale='Bluered')"
   ]
  },
  {
   "cell_type": "markdown",
   "metadata": {},
   "source": [
    "Прослеживается зависимость процента бедности от ВРП"
   ]
  },
  {
   "cell_type": "code",
   "execution_count": null,
   "metadata": {},
   "outputs": [],
   "source": [
    "px.scatter(main, y='poverty_percent', x='grp_value',\n",
    "           log_y=True, hover_data=['region', 'year'])"
   ]
  },
  {
   "cell_type": "markdown",
   "metadata": {},
   "source": [
    "Может даже логарифмическая зависимость? Что если убрать крайние значения?"
   ]
  },
  {
   "cell_type": "code",
   "execution_count": null,
   "metadata": {},
   "outputs": [],
   "source": [
    "main.grp_value.quantile([0.1, 0.9])"
   ]
  },
  {
   "cell_type": "code",
   "execution_count": null,
   "metadata": {},
   "outputs": [],
   "source": [
    "vis = main[main.grp_value.between(14004.32, 509867.48)]\n",
    "px.imshow(vis.corr(numeric_only=True), color_continuous_scale='Bluered')"
   ]
  },
  {
   "cell_type": "code",
   "execution_count": null,
   "metadata": {},
   "outputs": [],
   "source": [
    "fig = px.scatter(vis, y='poverty_percent', x='grp_value', log_y=True, hover_data=[\n",
    "                 'region', 'year'], trendline=\"ols\", trendline_options=dict(log_x=True))\n",
    "fig.show()\n",
    "results = px.get_trendline_results(fig)\n",
    "print(results)\n",
    "results.px_fit_results.iloc[0].summary()"
   ]
  },
  {
   "cell_type": "markdown",
   "metadata": {},
   "source": [
    "Есть явная зависимость бедности региона от значения ВРП"
   ]
  },
  {
   "cell_type": "markdown",
   "metadata": {},
   "source": [
    "## Оборот розничной торговли на душу населения"
   ]
  },
  {
   "cell_type": "code",
   "execution_count": null,
   "metadata": {},
   "outputs": [],
   "source": [
    "retail_turnover = pd.read_excel(\n",
    "    'data/retail_turnover_per_capita_2000_2021.xls', skiprows=[0, 1, 3])\n",
    "retail_turnover"
   ]
  },
  {
   "cell_type": "code",
   "execution_count": null,
   "metadata": {},
   "outputs": [],
   "source": [
    "retail_turnover = retail_turnover.drop(retail_turnover.columns[1], axis=1)"
   ]
  },
  {
   "cell_type": "code",
   "execution_count": null,
   "metadata": {},
   "outputs": [],
   "source": [
    "retail_turnover = retail_turnover.rename(\n",
    "    {retail_turnover.columns[0]: 'region'}, axis=1)\n",
    "retail_turnover = unified_regions(retail_turnover)"
   ]
  },
  {
   "cell_type": "code",
   "execution_count": null,
   "metadata": {},
   "outputs": [],
   "source": [
    "# конвертируем таблицу wide-to-long\n",
    "retail_turnover_df = pd.melt(\n",
    "    retail_turnover, id_vars='region', var_name='year', value_name='retail_turnover')\n",
    "retail_turnover_df.year = retail_turnover_df.year.apply(int)"
   ]
  },
  {
   "cell_type": "code",
   "execution_count": null,
   "metadata": {},
   "outputs": [],
   "source": [
    "set(main.region.unique())-(set(retail_turnover_df.region.unique()))"
   ]
  },
  {
   "cell_type": "code",
   "execution_count": null,
   "metadata": {},
   "outputs": [],
   "source": [
    "main = main.merge(retail_turnover_df, how='left', on=['region', 'year'])"
   ]
  },
  {
   "cell_type": "code",
   "execution_count": null,
   "metadata": {},
   "outputs": [],
   "source": [
    "main.retail_turnover.value_counts(dropna=False)"
   ]
  },
  {
   "cell_type": "markdown",
   "metadata": {},
   "source": [
    "При просмотре получившейся таблицы видно, что 0 это данные в областях-матрёшках. Можно вычислить эти значения, но довольно муторно. Думаю можно пропустить эти строчки. NaN для годов раньше 1999 тоже опустим, остальные заменим первым валидным значением"
   ]
  },
  {
   "cell_type": "code",
   "execution_count": null,
   "metadata": {},
   "outputs": [],
   "source": [
    "vis = main[main['retail_turnover'] != 0]\n",
    "vis = vis[vis['year'] > 1999]\n",
    "vis['retail_turnover'] = vis['retail_turnover'].bfill()\n",
    "px.imshow(vis.corr(numeric_only=True), color_continuous_scale='Bluered')"
   ]
  },
  {
   "cell_type": "code",
   "execution_count": null,
   "metadata": {},
   "outputs": [],
   "source": [
    "px.scatter(vis, y='poverty_percent', x='retail_turnover',\n",
    "           hover_data=['region', 'year'])"
   ]
  },
  {
   "cell_type": "markdown",
   "metadata": {},
   "source": [
    "Как же приятно работать с такими корреляциями! Попробуем аппроксимировать"
   ]
  },
  {
   "cell_type": "code",
   "execution_count": null,
   "metadata": {},
   "outputs": [],
   "source": [
    "fig = px.scatter(vis, y='poverty_percent', x='retail_turnover', log_y=True, hover_data=[\n",
    "                 'region', 'year'], trendline=\"ols\", trendline_options=dict(log_x=True))\n",
    "fig.show()\n",
    "results = px.get_trendline_results(fig)\n",
    "results.px_fit_results.iloc[0].summary()"
   ]
  },
  {
   "cell_type": "code",
   "execution_count": null,
   "metadata": {},
   "outputs": [],
   "source": [
    "fig = px.scatter(vis, y='poverty_percent', x='retail_turnover', log_y=True, hover_data=[\n",
    "                 'region', 'year'], trendline=\"ols\", trendline_options=dict(log_x=True))\n",
    "fig.show()\n",
    "results = px.get_trendline_results(fig)\n",
    "print(results)\n",
    "results.px_fit_results.iloc[0].summary()"
   ]
  },
  {
   "cell_type": "markdown",
   "metadata": {},
   "source": [
    "Видим, что оборот розничной торговли также коррелирует с процентом бедности в регионе. Хотя он и с ВРП достаточно скоррелирован (0.5)"
   ]
  },
  {
   "cell_type": "markdown",
   "metadata": {},
   "source": [
    "# Выводы"
   ]
  },
  {
   "cell_type": "markdown",
   "metadata": {},
   "source": [
    "## Проведен разведывательный анализ данных, найдены зависимости, такие как"
   ]
  },
  {
   "attachments": {
    "image.png": {
     "image/png": "[encoded data removed]"
    }
   },
   "cell_type": "markdown",
   "metadata": {},
   "source": [
    "В среднем, после 2000 года каждый год относительные и абсолютные значения бедности уменьшаются, а экономические показатели растут\n",
    "В малообеспеченных регионах:\n",
    "* хуже жилищные условия\n",
    "* хуже экономические показатели\n",
    "![image.png](attachment:image.png)"
   ]
  },
  {
   "cell_type": "markdown",
   "metadata": {},
   "source": [
    "## Проведена кластеризация регионов"
   ]
  },
  {
   "cell_type": "markdown",
   "metadata": {},
   "source": [
    "Определены кластеры регионов, которые наиболее остро нуждаются в помощи малообеспеченным/неблагополучным слоям населения\n",
    "* Наибольшее относительное число малообеспеченных"
   ]
  },
  {
   "attachments": {
    "image.png": {
     "image/png": "[encoded data removed]"
    }
   },
   "cell_type": "markdown",
   "metadata": {},
   "source": [
    "![image.png](attachment:image.png)"
   ]
  },
  {
   "cell_type": "markdown",
   "metadata": {},
   "source": [
    "* Наибольшее абсолютное число малообеспеченных"
   ]
  },
  {
   "attachments": {
    "image.png": {
     "image/png": "[encoded data removed]"
    }
   },
   "cell_type": "markdown",
   "metadata": {},
   "source": [
    "![image.png](attachment:image.png)"
   ]
  },
  {
   "cell_type": "markdown",
   "metadata": {},
   "source": [
    "* Выше социальные трудности в регионах:"
   ]
  },
  {
   "attachments": {
    "image.png": {
     "image/png": "[encoded data removed]"
    }
   },
   "cell_type": "markdown",
   "metadata": {},
   "source": [
    "![image.png](attachment:image.png)"
   ]
  },
  {
   "cell_type": "markdown",
   "metadata": {},
   "source": [
    "## Определение кластеров регионов подтверждено статистическими методами"
   ]
  }
 ],
 "metadata": {
  "kernelspec": {
   "display_name": "Python 3",
   "language": "python",
   "name": "python3"
  },
  "language_info": {
   "codemirror_mode": {
    "name": "ipython",
    "version": 3
   },
   "file_extension": ".py",
   "mimetype": "text/x-python",
   "name": "python",
   "nbconvert_exporter": "python",
   "pygments_lexer": "ipython3",
   "version": "3.11.1"
  }
 },
 "nbformat": 4,
 "nbformat_minor": 2
}
